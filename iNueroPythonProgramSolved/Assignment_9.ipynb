{
 "cells": [
  {
   "cell_type": "markdown",
   "metadata": {},
   "source": [
    "1.\tWrite a Python program to check if the given number is a Disarium Number?\n",
    "2.\tWrite a Python program to print all disarium numbers between 1 to 100?\n",
    "3.\tWrite a Python program to check if the given number is Happy Number?\n",
    "4.\tWrite a Python program to print all happy numbers between 1 and 100?\n",
    "5.\tWrite a Python program to determine whether the given number is a Harshad Number?\n",
    "6.\tWrite a Python program to print all pronic numbers between 1 and 100?\n"
   ]
  },
  {
   "cell_type": "code",
   "execution_count": 1,
   "metadata": {},
   "outputs": [],
   "source": [
    "#1\n",
    "def diss(x):\n",
    "    num=0\n",
    "    pow=[int(char) for char in str(x)]\n",
    "    for i in range(len(pow)):\n",
    "        num+=pow[i]**(i+1)\n",
    "    return 'yes' if(num==x) else 'no'"
   ]
  },
  {
   "cell_type": "code",
   "execution_count": 2,
   "metadata": {},
   "outputs": [
    {
     "data": {
      "text/plain": [
       "'yes'"
      ]
     },
     "execution_count": 2,
     "metadata": {},
     "output_type": "execute_result"
    }
   ],
   "source": [
    "diss(175)"
   ]
  },
  {
   "cell_type": "code",
   "execution_count": 3,
   "metadata": {},
   "outputs": [],
   "source": [
    "#2\n",
    "def diss(x):\n",
    "    num=0\n",
    "    pow=[int(char) for char in str(x)]\n",
    "    for i in range(len(pow)):\n",
    "        num+=pow[i]**(i+1)\n",
    "    return 'yes' if(num==x) else 'no'\n",
    "def dissRange(start,end):\n",
    "    for i in range(start,end):\n",
    "        if diss(i)=='yes':\n",
    "            print(i) "
   ]
  },
  {
   "cell_type": "code",
   "execution_count": 4,
   "metadata": {},
   "outputs": [
    {
     "name": "stdout",
     "output_type": "stream",
     "text": [
      "1\n",
      "2\n",
      "3\n",
      "4\n",
      "5\n",
      "6\n",
      "7\n",
      "8\n",
      "9\n",
      "89\n"
     ]
    }
   ],
   "source": [
    "dissRange(1,100)"
   ]
  },
  {
   "cell_type": "code",
   "execution_count": 33,
   "metadata": {},
   "outputs": [],
   "source": [
    "#3\n",
    "def numSplit(x):\n",
    "    return [int(char) for char in str(x)]\n",
    "def splsqr(x):\n",
    "    hap=0\n",
    "    for i in range(len(x)):\n",
    "            hap+=x[i]**2\n",
    "    return hap\n",
    "def happy(x):\n",
    "    num_Split=numSplit(x)\n",
    "    if(len(num_Split)==1 and x!=7):\n",
    "            print('yes' if(x==1) else 'no')\n",
    "    else:\n",
    "        hap=splsqr(num_Split)\n",
    "        happy(hap)"
   ]
  },
  {
   "cell_type": "code",
   "execution_count": 34,
   "metadata": {},
   "outputs": [
    {
     "name": "stdout",
     "output_type": "stream",
     "text": [
      "yes\n"
     ]
    }
   ],
   "source": [
    "happy(7)"
   ]
  },
  {
   "cell_type": "code",
   "execution_count": 35,
   "metadata": {},
   "outputs": [],
   "source": [
    "#4\n",
    "def numSplit(x):\n",
    "    return [int(char) for char in str(x)]\n",
    "def splsqr(x):\n",
    "    hap=0\n",
    "    for i in range(len(x)):\n",
    "            hap+=x[i]**2\n",
    "    return hap\n",
    "def happy(x):\n",
    "    num_Split=numSplit(x)\n",
    "    if(len(num_Split)==1 and x!=7):\n",
    "        return True if(x==1) else False\n",
    "    else:\n",
    "        hap=splsqr(num_Split)\n",
    "        return happy(hap)\n",
    "def happyRange(start,end):\n",
    "    for i in range(start,end):\n",
    "        if happy(i):\n",
    "            print(i)"
   ]
  },
  {
   "cell_type": "code",
   "execution_count": 36,
   "metadata": {},
   "outputs": [
    {
     "name": "stdout",
     "output_type": "stream",
     "text": [
      "1\n",
      "7\n",
      "10\n",
      "13\n",
      "19\n",
      "23\n",
      "28\n",
      "31\n",
      "32\n",
      "44\n",
      "49\n",
      "68\n",
      "70\n",
      "79\n",
      "82\n",
      "86\n",
      "91\n",
      "94\n",
      "97\n"
     ]
    }
   ],
   "source": [
    "happyRange(1,100)"
   ]
  },
  {
   "cell_type": "code",
   "execution_count": 45,
   "metadata": {},
   "outputs": [],
   "source": [
    "#5\n",
    "def sumOfDigits(x):\n",
    "    return sum([int(char) for char in str(x)])\n",
    "def harshadNum(x):\n",
    "    div=sumOfDigits(str(x))\n",
    "    if(x%div==0):\n",
    "        print('it is harshad')\n",
    "    else:\n",
    "        print('Not harshad')"
   ]
  },
  {
   "cell_type": "code",
   "execution_count": 46,
   "metadata": {},
   "outputs": [
    {
     "name": "stdout",
     "output_type": "stream",
     "text": [
      "it is harshad\n"
     ]
    }
   ],
   "source": [
    "harshadNum(156)"
   ]
  },
  {
   "cell_type": "code",
   "execution_count": 55,
   "metadata": {},
   "outputs": [],
   "source": [
    "#6\n",
    "def pronincNum(start,end):\n",
    "    for i in range(start,end):\n",
    "        prod=i*(i+1)\n",
    "        if prod<=end:\n",
    "            print(prod)"
   ]
  },
  {
   "cell_type": "code",
   "execution_count": 56,
   "metadata": {},
   "outputs": [
    {
     "name": "stdout",
     "output_type": "stream",
     "text": [
      "2\n",
      "6\n",
      "12\n",
      "20\n",
      "30\n",
      "42\n",
      "56\n",
      "72\n",
      "90\n"
     ]
    }
   ],
   "source": [
    "pronincNum(1,100)"
   ]
  },
  {
   "cell_type": "code",
   "execution_count": null,
   "metadata": {},
   "outputs": [],
   "source": []
  }
 ],
 "metadata": {
  "kernelspec": {
   "display_name": "Python 3",
   "language": "python",
   "name": "python3"
  },
  "language_info": {
   "codemirror_mode": {
    "name": "ipython",
    "version": 3
   },
   "file_extension": ".py",
   "mimetype": "text/x-python",
   "name": "python",
   "nbconvert_exporter": "python",
   "pygments_lexer": "ipython3",
   "version": "3.8.5"
  }
 },
 "nbformat": 4,
 "nbformat_minor": 4
}
