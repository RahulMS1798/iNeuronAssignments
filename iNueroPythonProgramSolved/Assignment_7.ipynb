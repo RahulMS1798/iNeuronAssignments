{
 "cells": [
  {
   "cell_type": "markdown",
   "metadata": {},
   "source": [
    "1.\tWrite a Python Program to find sum of array?\n",
    "2.\tWrite a Python Program to find largest element in an array?\n",
    "3.\tWrite a Python Program for array rotation?\n",
    "4.\tWrite a Python Program to Split the array and add the first part to the end?\n",
    "5.\tWrite a Python Program to check if given array is Monotonic?"
   ]
  },
  {
   "cell_type": "code",
   "execution_count": 1,
   "metadata": {},
   "outputs": [
    {
     "name": "stdout",
     "output_type": "stream",
     "text": [
      "Sum of array is :  80\n"
     ]
    }
   ],
   "source": [
    "#1\n",
    "arr=[19,11,20,30]\n",
    "print('Sum of array is : ',sum(arr))"
   ]
  },
  {
   "cell_type": "code",
   "execution_count": 2,
   "metadata": {},
   "outputs": [
    {
     "data": {
      "text/plain": [
       "90"
      ]
     },
     "execution_count": 2,
     "metadata": {},
     "output_type": "execute_result"
    }
   ],
   "source": [
    "#2\n",
    "def largest(arr):\n",
    "    max=arr[0]\n",
    "    for i in range(len (arr)):\n",
    "        if arr[i]>max:\n",
    "            max=arr[i]\n",
    "    return max        \n",
    "arr=[1,2,4,7,90,35]\n",
    "largest(arr)"
   ]
  },
  {
   "cell_type": "code",
   "execution_count": 5,
   "metadata": {},
   "outputs": [
    {
     "data": {
      "text/plain": [
       "[5, 1, 2, 3, 4]"
      ]
     },
     "execution_count": 5,
     "metadata": {},
     "output_type": "execute_result"
    }
   ],
   "source": [
    "#3\n",
    "def rightRotate(arr,n):\n",
    "    temp=list()\n",
    "    for i in range(len(arr)):\n",
    "        temp.append(arr[i-n])\n",
    "        print\n",
    "    return temp\n",
    "\n",
    "def leftRotate(arr,n):\n",
    "    temp=list()\n",
    "    for i in range(len(arr)):\n",
    "        if(i+n<len(arr)):\n",
    "            temp.append(arr[i+n])\n",
    "        else:\n",
    "            temp.append(arr[i+n-len(arr)])\n",
    "        print\n",
    "    return temp\n",
    "\n",
    "arr=[1,2,3,4,5]\n",
    "rightRotate(arr,1)"
   ]
  },
  {
   "cell_type": "code",
   "execution_count": 6,
   "metadata": {},
   "outputs": [
    {
     "data": {
      "text/plain": [
       "[1, 2, 3, 4, 5]"
      ]
     },
     "execution_count": 6,
     "metadata": {},
     "output_type": "execute_result"
    }
   ],
   "source": [
    "leftRotate(arr,5)"
   ]
  },
  {
   "cell_type": "code",
   "execution_count": 7,
   "metadata": {},
   "outputs": [
    {
     "data": {
      "text/plain": [
       "[4, 5, 3, 1, 2]"
      ]
     },
     "execution_count": 7,
     "metadata": {},
     "output_type": "execute_result"
    }
   ],
   "source": [
    "#4\n",
    "def interchange(arr):\n",
    "    temp=list()\n",
    "    if(len(arr)%2==0):\n",
    "        half=int(len(arr)/2)\n",
    "        [temp.append(i) for i in arr[half:len(arr)]] \n",
    "        [temp.append(i) for i in arr[0:half]]\n",
    "    else:\n",
    "        half=int(len(arr)/2)\n",
    "        [temp.append(i) for i in arr[half+1:len(arr)]]\n",
    "        temp.append(arr[half])\n",
    "        [temp.append(i) for i in arr[0:half]]\n",
    "    return temp\n",
    "arr=[1,2,3,4,5]\n",
    "interchange(arr)"
   ]
  },
  {
   "cell_type": "code",
   "execution_count": 9,
   "metadata": {},
   "outputs": [
    {
     "name": "stdout",
     "output_type": "stream",
     "text": [
      "True\n"
     ]
    }
   ],
   "source": [
    "#5\n",
    "def isMonotonic(A):\n",
    "  \n",
    "    return (all(A[i] <= A[i + 1] for i in range(len(A) - 1)) or\n",
    "            all(A[i] >= A[i + 1] for i in range(len(A) - 1)))\n",
    "\n",
    "A = [6, 5, 4, 4]\n",
    "\n",
    "print(isMonotonic(A))"
   ]
  },
  {
   "cell_type": "code",
   "execution_count": 10,
   "metadata": {},
   "outputs": [
    {
     "name": "stdout",
     "output_type": "stream",
     "text": [
      "False\n"
     ]
    }
   ],
   "source": [
    "A = [3, 7, 4, 8]\n",
    "\n",
    "print(isMonotonic(A))"
   ]
  },
  {
   "cell_type": "code",
   "execution_count": null,
   "metadata": {},
   "outputs": [],
   "source": []
  }
 ],
 "metadata": {
  "kernelspec": {
   "display_name": "Python 3",
   "language": "python",
   "name": "python3"
  },
  "language_info": {
   "codemirror_mode": {
    "name": "ipython",
    "version": 3
   },
   "file_extension": ".py",
   "mimetype": "text/x-python",
   "name": "python",
   "nbconvert_exporter": "python",
   "pygments_lexer": "ipython3",
   "version": "3.8.5"
  }
 },
 "nbformat": 4,
 "nbformat_minor": 4
}
