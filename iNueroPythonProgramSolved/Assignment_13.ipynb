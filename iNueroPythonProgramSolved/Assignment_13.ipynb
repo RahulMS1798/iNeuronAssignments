{
 "cells": [
  {
   "cell_type": "markdown",
   "metadata": {},
   "source": [
    "Assignment 13"
   ]
  },
  {
   "cell_type": "code",
   "execution_count": 66,
   "metadata": {},
   "outputs": [],
   "source": [
    "import math\n",
    "def qfunc(*D):\n",
    "    C=50\n",
    "    H=30\n",
    "    ans=[]\n",
    "    for i in D:\n",
    "        ans.append(int(math.sqrt((2*C*i)/H)))\n",
    "    return ans\n"
   ]
  },
  {
   "cell_type": "code",
   "execution_count": 67,
   "metadata": {},
   "outputs": [
    {
     "data": {
      "text/plain": [
       "[18, 22, 24]"
      ]
     },
     "execution_count": 67,
     "metadata": {},
     "output_type": "execute_result"
    }
   ],
   "source": [
    "qfunc(100,150,180)"
   ]
  },
  {
   "cell_type": "code",
   "execution_count": 151,
   "metadata": {},
   "outputs": [],
   "source": [
    "import numpy\n",
    "def twoD(X,Y):\n",
    "    arr=[[0]*Y for i in range(X)]\n",
    "    for i in range(X):\n",
    "        for j in range(Y):\n",
    "            try :\n",
    "                arr[i][j]=i*j\n",
    "            except:\n",
    "                print(i,j)\n",
    "    return arr"
   ]
  },
  {
   "cell_type": "code",
   "execution_count": 152,
   "metadata": {},
   "outputs": [
    {
     "data": {
      "text/plain": [
       "[[0, 0, 0, 0, 0], [0, 1, 2, 3, 4], [0, 2, 4, 6, 8]]"
      ]
     },
     "execution_count": 152,
     "metadata": {},
     "output_type": "execute_result"
    }
   ],
   "source": [
    "twoD(3,5)"
   ]
  },
  {
   "cell_type": "code",
   "execution_count": 158,
   "metadata": {},
   "outputs": [],
   "source": [
    "def wordSort(wordcsv):\n",
    "    wordlist=[i for i in wordcsv.split(\",\")]\n",
    "    wordlist.sort()\n",
    "    return wordlist\n",
    "        "
   ]
  },
  {
   "cell_type": "code",
   "execution_count": 159,
   "metadata": {},
   "outputs": [
    {
     "data": {
      "text/plain": [
       "['app', 'dog', 'zebra']"
      ]
     },
     "execution_count": 159,
     "metadata": {},
     "output_type": "execute_result"
    }
   ],
   "source": [
    "wordSort(\"zebra,dog,app\")"
   ]
  },
  {
   "cell_type": "code",
   "execution_count": 165,
   "metadata": {},
   "outputs": [],
   "source": [
    "def wordDup(wordcsv):\n",
    "    wordlist=set([i for i in wordcsv.split()])\n",
    "    sorted(wordlist)\n",
    "    return wordlist"
   ]
  },
  {
   "cell_type": "code",
   "execution_count": 169,
   "metadata": {},
   "outputs": [
    {
     "data": {
      "text/plain": [
       "{'again', 'and', 'hello', 'makes', 'perfect', 'practice', 'world'}"
      ]
     },
     "execution_count": 169,
     "metadata": {},
     "output_type": "execute_result"
    }
   ],
   "source": [
    "wordDup(\"hello world and practice makes perfect and hello world again\")"
   ]
  },
  {
   "cell_type": "code",
   "execution_count": 192,
   "metadata": {},
   "outputs": [],
   "source": [
    "def wordSort(sentence):\n",
    "    alphaCount=0\n",
    "    numCount=0\n",
    "    for i in sentence:\n",
    "        if i.isalpha():\n",
    "            alphaCount+=1\n",
    "        elif i.isdigit():\n",
    "            numCount+=1\n",
    "        else:\n",
    "            continue\n",
    "    return (\"LETTERS {}  DIGITS {}\".format(alphaCount,numCount))"
   ]
  },
  {
   "cell_type": "code",
   "execution_count": 193,
   "metadata": {},
   "outputs": [
    {
     "data": {
      "text/plain": [
       "'LETTERS 10  DIGITS 3'"
      ]
     },
     "execution_count": 193,
     "metadata": {},
     "output_type": "execute_result"
    }
   ],
   "source": [
    "wordSort(\"hello world 123\")"
   ]
  },
  {
   "cell_type": "code",
   "execution_count": null,
   "metadata": {},
   "outputs": [],
   "source": [
    "#6 \n",
    "not done"
   ]
  }
 ],
 "metadata": {
  "kernelspec": {
   "display_name": "Python 3",
   "language": "python",
   "name": "python3"
  },
  "language_info": {
   "codemirror_mode": {
    "name": "ipython",
    "version": 3
   },
   "file_extension": ".py",
   "mimetype": "text/x-python",
   "name": "python",
   "nbconvert_exporter": "python",
   "pygments_lexer": "ipython3",
   "version": "3.8.5"
  }
 },
 "nbformat": 4,
 "nbformat_minor": 4
}
