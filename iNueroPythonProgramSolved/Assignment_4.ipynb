{
 "cells": [
  {
   "cell_type": "code",
   "execution_count": 1,
   "metadata": {},
   "outputs": [],
   "source": [
    "#1\n",
    "def factorial(n):\n",
    "        fac = 1\n",
    "        for i in range(1,n+1):            \n",
    "            fac = i*fac\n",
    "        return fac"
   ]
  },
  {
   "cell_type": "code",
   "execution_count": 2,
   "metadata": {},
   "outputs": [
    {
     "data": {
      "text/plain": [
       "6"
      ]
     },
     "execution_count": 2,
     "metadata": {},
     "output_type": "execute_result"
    }
   ],
   "source": [
    "factorial(3)"
   ]
  },
  {
   "cell_type": "code",
   "execution_count": 3,
   "metadata": {},
   "outputs": [],
   "source": [
    "#2'\n",
    "def MulTable(num):\n",
    "    for i in range(1,11):\n",
    "        print (f'{num} X {i} = {num*i}')"
   ]
  },
  {
   "cell_type": "code",
   "execution_count": 4,
   "metadata": {},
   "outputs": [
    {
     "name": "stdout",
     "output_type": "stream",
     "text": [
      "19 X 1 = 19\n",
      "19 X 2 = 38\n",
      "19 X 3 = 57\n",
      "19 X 4 = 76\n",
      "19 X 5 = 95\n",
      "19 X 6 = 114\n",
      "19 X 7 = 133\n",
      "19 X 8 = 152\n",
      "19 X 9 = 171\n",
      "19 X 10 = 190\n"
     ]
    }
   ],
   "source": [
    "MulTable(19)"
   ]
  },
  {
   "cell_type": "code",
   "execution_count": 5,
   "metadata": {},
   "outputs": [],
   "source": [
    "#3\n",
    "def fibonacci():\n",
    "    fib = [0,1]\n",
    "    yield fib[0]\n",
    "    yield fib[1]\n",
    "    while True:\n",
    "        for i in fib:\n",
    "            fib.append(fib[-1]+fib[-2])\n",
    "            yield fib[-1]"
   ]
  },
  {
   "cell_type": "code",
   "execution_count": 6,
   "metadata": {},
   "outputs": [
    {
     "name": "stdout",
     "output_type": "stream",
     "text": [
      "Enter the number of fibonacci terms: 5\n",
      "Fibonacci Sequence is: [0, 1, 1, 2, 3]\n"
     ]
    }
   ],
   "source": [
    "total = int(input('Enter the number of fibonacci terms: '))\n",
    "fib = fibonacci()\n",
    "print ('Fibonacci Sequence is:', [next(fib) for _ in range(total)])"
   ]
  },
  {
   "cell_type": "code",
   "execution_count": 8,
   "metadata": {},
   "outputs": [],
   "source": [
    "#4\n",
    "def order(num):     \n",
    "    i = 0\n",
    "    while (num != 0):\n",
    "        i = i + 1\n",
    "        num = num // 10          \n",
    "    return i\n",
    "\n",
    "def ChkArmNum():\n",
    "    num = input('Enter a number to check for Armstrong Number :')\n",
    "    num = int(num)\n",
    "    order_no = order(num)\n",
    "    total = 0\n",
    "    temp_num = num\n",
    "    while temp_num > 0:\n",
    "        pos = temp_num % 10            \n",
    "        total += pos**order_no\n",
    "        temp_num = temp_num//10\n",
    "\n",
    "    if (num == total):\n",
    "        print (\"This is an Armstrong Number!\")\n",
    "    else:\n",
    "        print (\"This is not an Armstrong Number!\")"
   ]
  },
  {
   "cell_type": "code",
   "execution_count": 9,
   "metadata": {},
   "outputs": [
    {
     "name": "stdout",
     "output_type": "stream",
     "text": [
      "Enter a number to check for Armstrong Number :175\n",
      "This is not an Armstrong Number!\n"
     ]
    }
   ],
   "source": [
    "ChkArmNum()"
   ]
  },
  {
   "cell_type": "code",
   "execution_count": 10,
   "metadata": {},
   "outputs": [],
   "source": [
    "#5\n",
    "def ChkArm(num):    \n",
    "        num = int(num)\n",
    "        order_no = order(num)\n",
    "        total = 0\n",
    "        temp_num = num\n",
    "        while temp_num > 0:\n",
    "            pos = temp_num % 10            \n",
    "            total += pos**order_no \n",
    "            temp_num = temp_num//10\n",
    "        \n",
    "        if (num == total):\n",
    "            return True\n",
    "        else:\n",
    "            return False\n",
    "        \n",
    "def FindArmNum(start,end):\n",
    "    nums = []\n",
    "    for i in range(start,end+1):\n",
    "        res = ChkArm(i)\n",
    "        if res:\n",
    "            nums.append(i)\n",
    "    if len(nums)>0:\n",
    "        print (f\"Armstrong numbers(s) in the interval {start} to {end} is: {nums}\")\n",
    "    else:\n",
    "        print (f\"There is no Armstrong number in the interval {start} to {end}.\")"
   ]
  },
  {
   "cell_type": "code",
   "execution_count": 11,
   "metadata": {},
   "outputs": [
    {
     "name": "stdout",
     "output_type": "stream",
     "text": [
      "Armstrong numbers(s) in the interval 1 to 10000 is: [1, 2, 3, 4, 5, 6, 7, 8, 9, 153, 370, 371, 407, 1634, 8208, 9474]\n"
     ]
    }
   ],
   "source": [
    "FindArmNum(1,10000)\n"
   ]
  },
  {
   "cell_type": "code",
   "execution_count": 14,
   "metadata": {},
   "outputs": [],
   "source": [
    "#6\n",
    "def NatNumSum():\n",
    "    num = input('Enter a number to find the sum of natural numbers :')\n",
    "    tot = 0\n",
    "    num = int(num)\n",
    "    if num < 0:\n",
    "        print ('Enter a positive value.')\n",
    "    else:\n",
    "        for i in range(num+1):\n",
    "            tot += i\n",
    "        print (f'The sum is {tot}')"
   ]
  },
  {
   "cell_type": "code",
   "execution_count": 15,
   "metadata": {},
   "outputs": [
    {
     "name": "stdout",
     "output_type": "stream",
     "text": [
      "Enter a number to find the sum of natural numbers :10\n",
      "The sum is 55\n"
     ]
    }
   ],
   "source": [
    "NatNumSum()"
   ]
  },
  {
   "cell_type": "code",
   "execution_count": null,
   "metadata": {},
   "outputs": [],
   "source": []
  }
 ],
 "metadata": {
  "kernelspec": {
   "display_name": "Python 3",
   "language": "python",
   "name": "python3"
  },
  "language_info": {
   "codemirror_mode": {
    "name": "ipython",
    "version": 3
   },
   "file_extension": ".py",
   "mimetype": "text/x-python",
   "name": "python",
   "nbconvert_exporter": "python",
   "pygments_lexer": "ipython3",
   "version": "3.8.5"
  }
 },
 "nbformat": 4,
 "nbformat_minor": 4
}
