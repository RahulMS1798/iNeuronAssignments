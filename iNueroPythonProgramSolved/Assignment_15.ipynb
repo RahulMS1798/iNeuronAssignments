{
 "cells": [
  {
   "cell_type": "markdown",
   "metadata": {},
   "source": [
    "Assignment 15"
   ]
  },
  {
   "cell_type": "code",
   "execution_count": 60,
   "metadata": {},
   "outputs": [],
   "source": [
    "#1\n",
    "def gen(n):\n",
    "    i=0\n",
    "    while i<n:\n",
    "        if i%5==0 and i%7==0:\n",
    "            yield i \n",
    "        i+=1\n",
    "def div():\n",
    "    n=int(input(\"Enter n : \"))\n",
    "    for items in gen(n):\n",
    "        print(str(items)+\",\",end=\" \")"
   ]
  },
  {
   "cell_type": "code",
   "execution_count": 61,
   "metadata": {},
   "outputs": [
    {
     "name": "stdout",
     "output_type": "stream",
     "text": [
      "Enter n : 100\n",
      "0, 35, 70, "
     ]
    }
   ],
   "source": [
    "div()"
   ]
  },
  {
   "cell_type": "code",
   "execution_count": 62,
   "metadata": {},
   "outputs": [],
   "source": [
    "#2\n",
    "def gen(n):\n",
    "    i=0\n",
    "    while i<n:\n",
    "        if i%2==0:\n",
    "            yield i \n",
    "        i+=1\n",
    "def even():\n",
    "    n=int(input(\"Enter n : \"))\n",
    "    for items in gen(n+1):\n",
    "        print(str(items),end=\",\")\n",
    "        "
   ]
  },
  {
   "cell_type": "code",
   "execution_count": 64,
   "metadata": {},
   "outputs": [
    {
     "name": "stdout",
     "output_type": "stream",
     "text": [
      "Enter n : 10\n",
      "0,2,4,6,8,10,"
     ]
    }
   ],
   "source": [
    "even()"
   ]
  },
  {
   "cell_type": "code",
   "execution_count": 65,
   "metadata": {},
   "outputs": [],
   "source": [
    "#3\n",
    "def fibList():\n",
    "    n=int(input(\"Enter n : \"))\n",
    "    mylist=[0,1] \n",
    "    [mylist.append(mylist[-2]+mylist[-1]) for n in range(n)]\n",
    "    ls=[str(i) for i in mylist]\n",
    "    return \",\".join(ls)"
   ]
  },
  {
   "cell_type": "code",
   "execution_count": 66,
   "metadata": {},
   "outputs": [
    {
     "name": "stdout",
     "output_type": "stream",
     "text": [
      "Enter n : 10\n"
     ]
    },
    {
     "data": {
      "text/plain": [
       "'0,1,1,2,3,5,8,13,21,34,55,89'"
      ]
     },
     "execution_count": 66,
     "metadata": {},
     "output_type": "execute_result"
    }
   ],
   "source": [
    "fibList()"
   ]
  },
  {
   "cell_type": "code",
   "execution_count": 45,
   "metadata": {},
   "outputs": [],
   "source": [
    "#4\n",
    "def user(email):\n",
    "    name=email.split(\"@\")\n",
    "    return name[0]"
   ]
  },
  {
   "cell_type": "code",
   "execution_count": 46,
   "metadata": {},
   "outputs": [
    {
     "data": {
      "text/plain": [
       "'john'"
      ]
     },
     "execution_count": 46,
     "metadata": {},
     "output_type": "execute_result"
    }
   ],
   "source": [
    "user(\"john@google.com\")"
   ]
  },
  {
   "cell_type": "code",
   "execution_count": 51,
   "metadata": {},
   "outputs": [],
   "source": [
    "#5\n",
    "class Shape:\n",
    "    area=0\n",
    "    def getArea(self):\n",
    "        print(self.area)"
   ]
  },
  {
   "cell_type": "code",
   "execution_count": 52,
   "metadata": {},
   "outputs": [],
   "source": [
    "class Square(Shape):\n",
    "    def __init__(self,length):\n",
    "        self.len=length\n",
    "        self.area=length**2"
   ]
  },
  {
   "cell_type": "code",
   "execution_count": 53,
   "metadata": {},
   "outputs": [],
   "source": [
    "Sq=Square(5)"
   ]
  },
  {
   "cell_type": "code",
   "execution_count": 54,
   "metadata": {},
   "outputs": [
    {
     "name": "stdout",
     "output_type": "stream",
     "text": [
      "25\n"
     ]
    }
   ],
   "source": [
    "Sq.getArea()"
   ]
  },
  {
   "cell_type": "code",
   "execution_count": null,
   "metadata": {},
   "outputs": [],
   "source": []
  }
 ],
 "metadata": {
  "kernelspec": {
   "display_name": "Python 3",
   "language": "python",
   "name": "python3"
  },
  "language_info": {
   "codemirror_mode": {
    "name": "ipython",
    "version": 3
   },
   "file_extension": ".py",
   "mimetype": "text/x-python",
   "name": "python",
   "nbconvert_exporter": "python",
   "pygments_lexer": "ipython3",
   "version": "3.8.5"
  }
 },
 "nbformat": 4,
 "nbformat_minor": 4
}
