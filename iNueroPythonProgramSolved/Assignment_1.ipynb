{
 "cells": [
  {
   "cell_type": "code",
   "execution_count": 9,
   "metadata": {},
   "outputs": [
    {
     "name": "stdout",
     "output_type": "stream",
     "text": [
      "Hello Python\n"
     ]
    }
   ],
   "source": [
    "#1\n",
    "print (\"Hello Python\")"
   ]
  },
  {
   "cell_type": "code",
   "execution_count": 2,
   "metadata": {},
   "outputs": [
    {
     "name": "stdout",
     "output_type": "stream",
     "text": [
      "Enter number for addition:2\n",
      "Enter number for addition:5\n",
      "The sum is : 7\n",
      "Enter number for division:8\n",
      "Enter number for division:2\n",
      "The answer is : 4.0\n"
     ]
    }
   ],
   "source": [
    "#2\n",
    "def addition(a, b):\n",
    "    return a + b\n",
    "\n",
    "\n",
    "def division(x, y):\n",
    "    return x / y\n",
    "\n",
    "p = int(input(\"Enter number for addition:\"))\n",
    "q = int(input(\"Enter number for addition:\"))\n",
    "print('The sum is :', addition(p, q))\n",
    "p = int(input(\"Enter number for division:\"))\n",
    "q = int(input(\"Enter number for division:\"))\n",
    "print('The answer is :', division(p, q))\n",
    "\n"
   ]
  },
  {
   "cell_type": "code",
   "execution_count": 3,
   "metadata": {},
   "outputs": [],
   "source": [
    "#3\n",
    "def calcArea(breadth, height):\n",
    "    return (breadth * height) / 2\n"
   ]
  },
  {
   "cell_type": "code",
   "execution_count": 5,
   "metadata": {},
   "outputs": [
    {
     "name": "stdout",
     "output_type": "stream",
     "text": [
      "Enter breadth:5\n",
      "Enter height:5\n",
      "Area of triangle is :  12.5\n"
     ]
    }
   ],
   "source": [
    "b = float(input(\"Enter breadth:\"))\n",
    "h = float(input(\"Enter height:\"))\n",
    "print('Area of triangle is : ', calcArea(b, h))"
   ]
  },
  {
   "cell_type": "code",
   "execution_count": 7,
   "metadata": {},
   "outputs": [
    {
     "name": "stdout",
     "output_type": "stream",
     "text": [
      "Enter number a:5\n",
      "Enter number b:3\n",
      "3 5\n"
     ]
    }
   ],
   "source": [
    "#4\n",
    "def swap(a, b):\n",
    "    a, b = b, a\n",
    "    return a, b\n",
    "p = int(input(\"Enter number a:\"))\n",
    "q = int(input(\"Enter number b:\"))\n",
    "p, q = swap(p, q)\n",
    "print(p, q)\n"
   ]
  },
  {
   "cell_type": "code",
   "execution_count": 8,
   "metadata": {},
   "outputs": [
    {
     "name": "stdout",
     "output_type": "stream",
     "text": [
      "68\n"
     ]
    }
   ],
   "source": [
    "#5\n",
    "import random\n",
    "\n",
    "\n",
    "def randomGenerator():\n",
    "    return random.randint(0, 100)\n",
    "print(randomGenerator())"
   ]
  },
  {
   "cell_type": "code",
   "execution_count": null,
   "metadata": {},
   "outputs": [],
   "source": []
  }
 ],
 "metadata": {
  "kernelspec": {
   "display_name": "Python 3",
   "language": "python",
   "name": "python3"
  },
  "language_info": {
   "codemirror_mode": {
    "name": "ipython",
    "version": 3
   },
   "file_extension": ".py",
   "mimetype": "text/x-python",
   "name": "python",
   "nbconvert_exporter": "python",
   "pygments_lexer": "ipython3",
   "version": "3.8.5"
  }
 },
 "nbformat": 4,
 "nbformat_minor": 4
}
