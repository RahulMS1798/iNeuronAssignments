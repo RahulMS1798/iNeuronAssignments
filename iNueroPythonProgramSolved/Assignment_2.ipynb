{
 "cells": [
  {
   "cell_type": "code",
   "execution_count": 1,
   "metadata": {},
   "outputs": [
    {
     "name": "stdout",
     "output_type": "stream",
     "text": [
      "Enter the Kilometers :100\n",
      "100.0 kms in miles is 62.137100000000004\n"
     ]
    }
   ],
   "source": [
    "#1\n",
    "kms = float(input(\"Enter the Kilometers :\"))\n",
    "\n",
    "conversion_fac = 0.621371  \n",
    "\n",
    "print (f'{kms} kms in miles is {kms*conversion_fac}')"
   ]
  },
  {
   "cell_type": "code",
   "execution_count": 2,
   "metadata": {},
   "outputs": [
    {
     "name": "stdout",
     "output_type": "stream",
     "text": [
      "Enter the temperature in celsius :32\n",
      "32.0 degree celsius in ferenheit is 89.6\n"
     ]
    }
   ],
   "source": [
    "#2\n",
    "celsius = float(input(\"Enter the temperature in celsius :\"))\n",
    "\n",
    "ferenheit = (celsius * (9/5)) +32\n",
    "\n",
    "print (f'{celsius} degree celsius in ferenheit is {ferenheit}')"
   ]
  },
  {
   "cell_type": "code",
   "execution_count": 3,
   "metadata": {},
   "outputs": [
    {
     "name": "stdout",
     "output_type": "stream",
     "text": [
      "Enter the year of calendar :2021\n",
      "Enter the month of calendar :7\n",
      "     July 2021\n",
      "Mo Tu We Th Fr Sa Su\n",
      "          1  2  3  4\n",
      " 5  6  7  8  9 10 11\n",
      "12 13 14 15 16 17 18\n",
      "19 20 21 22 23 24 25\n",
      "26 27 28 29 30 31\n",
      "\n"
     ]
    }
   ],
   "source": [
    "#3\n",
    "import calendar\n",
    "\n",
    "year = int(input(\"Enter the year of calendar :\"))\n",
    "\n",
    "month = int(input(\"Enter the month of calendar :\"))\n",
    "\n",
    "print (calendar.month(year, month))"
   ]
  },
  {
   "cell_type": "code",
   "execution_count": 4,
   "metadata": {},
   "outputs": [
    {
     "name": "stdout",
     "output_type": "stream",
     "text": [
      "Enter a,b,c values of quadratic equation of the form ax^2 + bx + c = 0\n",
      "Enter a :5\n",
      "Enter b :3\n",
      "Enter c :8\n",
      "Solution 1: (-0.3+1.2288205727444508j)\n",
      "Solution 2: (-0.3-1.2288205727444508j)\n"
     ]
    }
   ],
   "source": [
    "#4\n",
    "import cmath  \n",
    "\n",
    "print('Enter a,b,c values of quadratic equation of the form ax^2 + bx + c = 0')\n",
    "\n",
    "a = float(input(\"Enter a :\"))\n",
    "b = float(input(\"Enter b :\"))\n",
    "c = float(input(\"Enter c :\"))\n",
    "\n",
    "# discriminant\n",
    "\n",
    "dis = b**2 - 4*a*c\n",
    "\n",
    "soln1 = (-b + cmath.sqrt(dis)) / (2*a)  # Solution 1\n",
    "\n",
    "soln2 = (-b - cmath.sqrt(dis)) / (2*a)  # Solution 2\n",
    "\n",
    "print (f'Solution 1: {soln1}')\n",
    "print (f'Solution 2: {soln2}')"
   ]
  },
  {
   "cell_type": "code",
   "execution_count": 5,
   "metadata": {},
   "outputs": [
    {
     "name": "stdout",
     "output_type": "stream",
     "text": [
      "Enter variable 1 :5\n",
      "Enter variable 2 :3\n",
      "input variable 1 = 5 \n",
      "input variable 2 = 3\n",
      "Swapped! \n",
      "output variable 1 = 3 \n",
      "output variable 2 = 5\n"
     ]
    }
   ],
   "source": [
    "#5\n",
    "def swap():\n",
    "    \"\"\"\n",
    "    function to swap two variables\n",
    "    \"\"\"\n",
    "    a = input(\"Enter variable 1 :\")\n",
    "    b = input(\"Enter variable 2 :\")\n",
    "    print (f'input variable 1 = {a} \\ninput variable 2 = {b}')\n",
    "    a,b = b,a\n",
    "    print (f'Swapped! \\noutput variable 1 = {a} \\noutput variable 2 = {b}')\n",
    "    \n",
    "swap()"
   ]
  },
  {
   "cell_type": "code",
   "execution_count": null,
   "metadata": {},
   "outputs": [],
   "source": []
  }
 ],
 "metadata": {
  "kernelspec": {
   "display_name": "Python 3",
   "language": "python",
   "name": "python3"
  },
  "language_info": {
   "codemirror_mode": {
    "name": "ipython",
    "version": 3
   },
   "file_extension": ".py",
   "mimetype": "text/x-python",
   "name": "python",
   "nbconvert_exporter": "python",
   "pygments_lexer": "ipython3",
   "version": "3.8.5"
  }
 },
 "nbformat": 4,
 "nbformat_minor": 4
}
