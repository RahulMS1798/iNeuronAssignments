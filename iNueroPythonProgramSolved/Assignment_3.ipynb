{
 "cells": [
  {
   "cell_type": "code",
   "execution_count": 1,
   "metadata": {},
   "outputs": [],
   "source": [
    "#1\n",
    "def checkNum():\n",
    "    \n",
    "    num = input(\"Enter a number: \")\n",
    "    num = float(num)\n",
    "    if num < 0:\n",
    "        print ('The number is negative.')\n",
    "    elif num > 0:\n",
    "        print ('The number is positive.')\n",
    "    else:\n",
    "        print ('The number is 0')"
   ]
  },
  {
   "cell_type": "code",
   "execution_count": 2,
   "metadata": {},
   "outputs": [
    {
     "name": "stdout",
     "output_type": "stream",
     "text": [
      "Enter a number: 54\n",
      "The number is positive.\n"
     ]
    }
   ],
   "source": [
    "checkNum()"
   ]
  },
  {
   "cell_type": "code",
   "execution_count": 4,
   "metadata": {},
   "outputs": [],
   "source": [
    "#2\n",
    "def OddEven():\n",
    "    num = input('Enter a number :')\n",
    "    num = float(num)\n",
    "    if num % 2 == 0:\n",
    "        print ('This is an even number.')\n",
    "    else:\n",
    "        print ('This is an odd number.')"
   ]
  },
  {
   "cell_type": "code",
   "execution_count": 5,
   "metadata": {},
   "outputs": [
    {
     "name": "stdout",
     "output_type": "stream",
     "text": [
      "Enter a number :5\n",
      "This is an odd number.\n"
     ]
    }
   ],
   "source": [
    "OddEven()"
   ]
  },
  {
   "cell_type": "code",
   "execution_count": 6,
   "metadata": {},
   "outputs": [],
   "source": [
    "#3\n",
    "def IsLeapYear():\n",
    "    year = input('Enter year to check for leap year :')\n",
    "    year = int(year)\n",
    "    if year % 4 == 0:\n",
    "        if year % 100 == 0:\n",
    "            if year % 400 == 0:\n",
    "                print (\"It's a leap year!\")\n",
    "            else:\n",
    "                print (\"It's not a leap year!\")\n",
    "        else:\n",
    "            print (\"It's a leap year!\")\n",
    "    else:\n",
    "        print (\"It's not a leap year!\")"
   ]
  },
  {
   "cell_type": "code",
   "execution_count": 7,
   "metadata": {},
   "outputs": [
    {
     "name": "stdout",
     "output_type": "stream",
     "text": [
      "Enter year to check for leap year :2020\n",
      "It's a leap year!\n"
     ]
    }
   ],
   "source": [
    "IsLeapYear()"
   ]
  },
  {
   "cell_type": "code",
   "execution_count": 9,
   "metadata": {},
   "outputs": [],
   "source": [
    "#4\n",
    "def IsPrime():\n",
    "    num = input('Enter a number to check for prime :')\n",
    "    num = int(num)\n",
    "    if num > 1:\n",
    "        for i in range(2,num):\n",
    "            if num % i == 0:\n",
    "                print (f'{num} is not a prime number!')\n",
    "                break\n",
    "        else:\n",
    "            print (f'{num} is a prime number!')\n",
    "    else:\n",
    "        print (f'{num} is not a prime number!')"
   ]
  },
  {
   "cell_type": "code",
   "execution_count": 10,
   "metadata": {},
   "outputs": [
    {
     "name": "stdout",
     "output_type": "stream",
     "text": [
      "Enter a number to check for prime :71\n",
      "71 is a prime number!\n"
     ]
    }
   ],
   "source": [
    "IsPrime()"
   ]
  },
  {
   "cell_type": "code",
   "execution_count": 11,
   "metadata": {},
   "outputs": [],
   "source": [
    "#5\n",
    "def genPrimes():\n",
    "    prime = [2]\n",
    "    start = 3\n",
    "    yield prime[0]\n",
    "    while True:\n",
    "        for i in prime:\n",
    "            if (start % i == 0):\n",
    "                break                \n",
    "                \n",
    "        else:\n",
    "            prime.append(start)\n",
    "            yield start\n",
    "        start += 1\n",
    "def getPrimes(lim):\n",
    "        gen = genPrimes() #generator object\n",
    "        prime = []\n",
    "        for n in gen:\n",
    "            if n <= lim:\n",
    "                prime.append(n)\n",
    "            else:\n",
    "                break\n",
    "        return prime"
   ]
  },
  {
   "cell_type": "code",
   "execution_count": 12,
   "metadata": {},
   "outputs": [
    {
     "data": {
      "text/plain": [
       "[2,\n",
       " 3,\n",
       " 5,\n",
       " 7,\n",
       " 11,\n",
       " 13,\n",
       " 17,\n",
       " 19,\n",
       " 23,\n",
       " 29,\n",
       " 31,\n",
       " 37,\n",
       " 41,\n",
       " 43,\n",
       " 47,\n",
       " 53,\n",
       " 59,\n",
       " 61,\n",
       " 67,\n",
       " 71,\n",
       " 73,\n",
       " 79,\n",
       " 83,\n",
       " 89,\n",
       " 97]"
      ]
     },
     "execution_count": 12,
     "metadata": {},
     "output_type": "execute_result"
    }
   ],
   "source": [
    "getPrimes(100)"
   ]
  },
  {
   "cell_type": "code",
   "execution_count": null,
   "metadata": {},
   "outputs": [],
   "source": []
  }
 ],
 "metadata": {
  "kernelspec": {
   "display_name": "Python 3",
   "language": "python",
   "name": "python3"
  },
  "language_info": {
   "codemirror_mode": {
    "name": "ipython",
    "version": 3
   },
   "file_extension": ".py",
   "mimetype": "text/x-python",
   "name": "python",
   "nbconvert_exporter": "python",
   "pygments_lexer": "ipython3",
   "version": "3.8.5"
  }
 },
 "nbformat": 4,
 "nbformat_minor": 4
}
