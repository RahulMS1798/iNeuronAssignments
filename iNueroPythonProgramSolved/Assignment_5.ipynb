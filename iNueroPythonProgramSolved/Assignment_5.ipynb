{
 "cells": [
  {
   "cell_type": "code",
   "execution_count": 2,
   "metadata": {},
   "outputs": [],
   "source": [
    "#1\n",
    "def LCM():\n",
    "    x = input(\"Enter first number :\")\n",
    "    y = input(\"Enter second number :\")\n",
    "    x = float(x)\n",
    "    y = float(y)\n",
    "    if (x > y):\n",
    "        lcm = x\n",
    "    else:\n",
    "        lcm = y\n",
    "    while True:\n",
    "        if lcm % x == 0 and lcm % y == 0:\n",
    "            print (f'LCM of {x} and {y} is: {lcm}')\n",
    "            break\n",
    "        lcm += 1"
   ]
  },
  {
   "cell_type": "code",
   "execution_count": 3,
   "metadata": {},
   "outputs": [
    {
     "name": "stdout",
     "output_type": "stream",
     "text": [
      "Enter first number :5\n",
      "Enter second number :83\n",
      "LCM of 5.0 and 83.0 is: 415.0\n"
     ]
    }
   ],
   "source": [
    "LCM()"
   ]
  },
  {
   "cell_type": "code",
   "execution_count": 4,
   "metadata": {},
   "outputs": [],
   "source": [
    "#2\n",
    "def HCF():\n",
    "    x = input(\"Enter first number :\")\n",
    "    y = input(\"Enter second number :\")\n",
    "    x = int(x)\n",
    "    y = int(y)\n",
    "    if (x > y):\n",
    "        small = x\n",
    "    else:\n",
    "        small = y\n",
    "    for i in range(1,small+1):\n",
    "        if x % i == 0 and y % i == 0:\n",
    "            hcf = i\n",
    "    print (f'HCF of {x} and {y} is: {hcf}')"
   ]
  },
  {
   "cell_type": "code",
   "execution_count": 5,
   "metadata": {},
   "outputs": [
    {
     "name": "stdout",
     "output_type": "stream",
     "text": [
      "Enter first number :72\n",
      "Enter second number :64\n",
      "HCF of 72 and 64 is: 8\n"
     ]
    }
   ],
   "source": [
    "HCF()"
   ]
  },
  {
   "cell_type": "code",
   "execution_count": 6,
   "metadata": {},
   "outputs": [],
   "source": [
    "#3\n",
    "def convert():\n",
    "    num = input('Enter an integer :')\n",
    "    meth = input(\"Choose a conversion. \\nOptions are 'binary','octal', and 'hexadecimal' : \")\n",
    "    num = int(num)\n",
    "    meth = str(meth)\n",
    "    if meth == 'binary':\n",
    "        print (f\"{num} converted to binary is : {bin(num)}\")\n",
    "    elif meth == 'octal':\n",
    "        print (f\"{num} converted to octal is : {oct(num)}\")\n",
    "    elif meth == 'hexadecimal':\n",
    "        print (f\"{num} converted to hexadecimal is : {hex(num)}\")\n",
    "    else:\n",
    "        print (\"Choose between 'binary','octal', and 'hexadecimal'\")"
   ]
  },
  {
   "cell_type": "code",
   "execution_count": 7,
   "metadata": {},
   "outputs": [
    {
     "name": "stdout",
     "output_type": "stream",
     "text": [
      "Enter an integer :5\n",
      "Choose a conversion. \n",
      "Options are 'binary','octal', and 'hexadecimal' : binary\n",
      "5 converted to binary is : 0b101\n"
     ]
    }
   ],
   "source": [
    "convert()"
   ]
  },
  {
   "cell_type": "code",
   "execution_count": 9,
   "metadata": {},
   "outputs": [],
   "source": [
    "#4\n",
    "def FindASCII():\n",
    "    char = input('Enter a character : ')\n",
    "    char = str(char)\n",
    "    print (f\"{char} converted to ASCII is : {ord(char)}\")"
   ]
  },
  {
   "cell_type": "code",
   "execution_count": 10,
   "metadata": {},
   "outputs": [
    {
     "name": "stdout",
     "output_type": "stream",
     "text": [
      "Enter a character : a\n",
      "a converted to ASCII is : 97\n"
     ]
    }
   ],
   "source": [
    "FindASCII()"
   ]
  },
  {
   "cell_type": "code",
   "execution_count": 13,
   "metadata": {},
   "outputs": [],
   "source": [
    "#5\n",
    "# addition\n",
    "def add(args):\n",
    "    try:\n",
    "        tot = 0\n",
    "        for i in args:\n",
    "            tot += i\n",
    "        return tot\n",
    "    except Exception as e:\n",
    "        print ('Error occured :',e)\n",
    "\n",
    "# Subtract\n",
    "def subtract(x,y):\n",
    "    try:\n",
    "        return x - y\n",
    "    except Exception as e:\n",
    "        print ('Error occured :',e)\n",
    "        \n",
    "# division\n",
    "def division(x,y):\n",
    "    try:\n",
    "        return x / y\n",
    "    except Exception as e:\n",
    "        print ('Error occured :',e)\n",
    "        \n",
    "# multiply\n",
    "def multiply(args):\n",
    "    try:\n",
    "        tot = 1\n",
    "        for i in args:\n",
    "            tot = tot*i\n",
    "        return tot\n",
    "    except Exception as e:\n",
    "        print ('Error occured :',e)\n",
    "        \n",
    "def calculator():\n",
    "\n",
    "    op = input(\"Choose a mathematical operation. \\nOptions are 'add','subtract', 'multiply', and 'divide' : \")\n",
    "    op = str(op)\n",
    "    if op in ('subtract', 'division'):\n",
    "        num1 = float(input(\"Enter first number : \"))\n",
    "        num2 = float(input(\"Enter second number : \"))\n",
    "        if op == 'subtract':\n",
    "            print (f\"{num1} - {num2} = {subtract(num1,num2)}\")\n",
    "        if op == 'division':\n",
    "            print (f\"{num1} / {num2} = {division(num1,num2)}\")\n",
    "    elif op in ('add', 'multiply'):\n",
    "        input_list = input(\"Enter the numbers separated by space : \")\n",
    "        input_list = input_list.split()\n",
    "        input_list = [int(i) for i in input_list]\n",
    "        if op == 'add':\n",
    "            print (f\"Addition of {input_list} = {add(input_list)}\")\n",
    "        if op == 'multiply':\n",
    "            print (f\"Multiplication of {input_list} = {multiply(input_list)}\")\n",
    "    else:\n",
    "        print (\"Choose between 'add','subtract', 'multiply', and 'divide'\")"
   ]
  },
  {
   "cell_type": "code",
   "execution_count": 14,
   "metadata": {},
   "outputs": [
    {
     "name": "stdout",
     "output_type": "stream",
     "text": [
      "Choose a mathematical operation. \n",
      "Options are 'add','subtract', 'multiply', and 'divide' : multiply\n",
      "Enter the numbers separated by space : 1 2\n",
      "Multiplication of [1, 2] = 2\n"
     ]
    }
   ],
   "source": [
    "calculator()"
   ]
  },
  {
   "cell_type": "code",
   "execution_count": null,
   "metadata": {},
   "outputs": [],
   "source": []
  }
 ],
 "metadata": {
  "kernelspec": {
   "display_name": "Python 3",
   "language": "python",
   "name": "python3"
  },
  "language_info": {
   "codemirror_mode": {
    "name": "ipython",
    "version": 3
   },
   "file_extension": ".py",
   "mimetype": "text/x-python",
   "name": "python",
   "nbconvert_exporter": "python",
   "pygments_lexer": "ipython3",
   "version": "3.8.5"
  }
 },
 "nbformat": 4,
 "nbformat_minor": 4
}
