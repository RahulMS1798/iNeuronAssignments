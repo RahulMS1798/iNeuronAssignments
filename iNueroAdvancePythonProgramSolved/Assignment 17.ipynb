{
 "cells": [
  {
   "cell_type": "code",
   "execution_count": 2,
   "metadata": {},
   "outputs": [],
   "source": [
    "#1\n",
    "import numpy as np\n",
    "def transpose_matrix(mat) :\n",
    "  \n",
    "        return np.array(mat).T.tolist()"
   ]
  },
  {
   "cell_type": "code",
   "execution_count": 3,
   "metadata": {},
   "outputs": [
    {
     "data": {
      "text/plain": [
       "[[1, 2, 3], [1, 2, 3], [1, 2, 3]]"
      ]
     },
     "execution_count": 3,
     "metadata": {},
     "output_type": "execute_result"
    }
   ],
   "source": [
    "transpose_matrix([[1, 1, 1],[2, 2, 2],[3, 3, 3] ])"
   ]
  },
  {
   "cell_type": "code",
   "execution_count": 4,
   "metadata": {},
   "outputs": [],
   "source": [
    "#2\n",
    "def is_valid_hex_code(string):\n",
    "        alphanum = '0123456789abcdef'\n",
    "        res = False\n",
    "        if len(string) == 7 and string[0] == \"#\":\n",
    "            for i in string[1:]:\n",
    "                if i.lower() in alphanum:\n",
    "                    res = True\n",
    "                else:\n",
    "                    res = False\n",
    "                    break\n",
    "        return res"
   ]
  },
  {
   "cell_type": "code",
   "execution_count": 5,
   "metadata": {},
   "outputs": [
    {
     "data": {
      "text/plain": [
       "True"
      ]
     },
     "execution_count": 5,
     "metadata": {},
     "output_type": "execute_result"
    }
   ],
   "source": [
    "is_valid_hex_code(\"#CD5C5C\")"
   ]
  },
  {
   "cell_type": "code",
   "execution_count": 6,
   "metadata": {},
   "outputs": [],
   "source": [
    "#3\n",
    "def mark_maths(equations) :\n",
    "        count = 0\n",
    "        for equation in equations:            \n",
    "            evaluate = equation.split(\"=\") \n",
    "            \n",
    "            if eval(evaluate[0])==int(evaluate[1]):\n",
    "                count += 1\n",
    "                \n",
    "        return str(round(count*100/len(equations))) + \"%\""
   ]
  },
  {
   "cell_type": "code",
   "execution_count": 7,
   "metadata": {},
   "outputs": [
    {
     "data": {
      "text/plain": [
       "'75%'"
      ]
     },
     "execution_count": 7,
     "metadata": {},
     "output_type": "execute_result"
    }
   ],
   "source": [
    "mark_maths([\"2+2=4\", \"3+2=5\", \"10-3=3\", \"5+5=10\"])"
   ]
  },
  {
   "cell_type": "code",
   "execution_count": 8,
   "metadata": {},
   "outputs": [],
   "source": [
    "#4\n",
    "def sum_string(string):\n",
    "    ans = [int(i) for i in string]\n",
    "    return sum(ans)\n",
    "\n",
    "def magic_square_game(alice, bob):\n",
    "        res = False\n",
    "        if alice[1][bob[0]-1] == bob[1][alice[0]-1] and sum_string(alice[1]) % 2 != 0 and sum_string(bob[1]) % 2 == 0:\n",
    "            res = True\n",
    "        return res"
   ]
  },
  {
   "cell_type": "code",
   "execution_count": 9,
   "metadata": {},
   "outputs": [
    {
     "data": {
      "text/plain": [
       "False"
      ]
     },
     "execution_count": 9,
     "metadata": {},
     "output_type": "execute_result"
    }
   ],
   "source": [
    "magic_square_game([2, \"100\"], [1, \"101\"]) "
   ]
  },
  {
   "cell_type": "code",
   "execution_count": 10,
   "metadata": {},
   "outputs": [],
   "source": [
    "#5\n",
    "import datetime\n",
    "def lets_meet(distance,va,vb):\n",
    "        total_time = distance / (va+vb)        \n",
    "        hour, minute, second = str(datetime.timedelta(hours =  total_time)).split(\":\")\n",
    "        res = f'{int(hour):d}' + \"h \" + f'{int(minute):d}' + \"min \" + f'{round(float(second)):d}' + \"s\"\n",
    "        return res"
   ]
  },
  {
   "cell_type": "code",
   "execution_count": 11,
   "metadata": {},
   "outputs": [
    {
     "data": {
      "text/plain": [
       "'2h 30min 0s'"
      ]
     },
     "execution_count": 11,
     "metadata": {},
     "output_type": "execute_result"
    }
   ],
   "source": [
    "lets_meet(100, 10, 30) "
   ]
  },
  {
   "cell_type": "code",
   "execution_count": null,
   "metadata": {},
   "outputs": [],
   "source": []
  }
 ],
 "metadata": {
  "kernelspec": {
   "display_name": "Python 3",
   "language": "python",
   "name": "python3"
  },
  "language_info": {
   "codemirror_mode": {
    "name": "ipython",
    "version": 3
   },
   "file_extension": ".py",
   "mimetype": "text/x-python",
   "name": "python",
   "nbconvert_exporter": "python",
   "pygments_lexer": "ipython3",
   "version": "3.8.5"
  }
 },
 "nbformat": 4,
 "nbformat_minor": 4
}
