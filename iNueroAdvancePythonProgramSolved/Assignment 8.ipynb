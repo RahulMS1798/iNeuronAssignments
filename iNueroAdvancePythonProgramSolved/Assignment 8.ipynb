{
 "cells": [
  {
   "cell_type": "markdown",
   "metadata": {},
   "source": [
    "Assignment 8"
   ]
  },
  {
   "cell_type": "code",
   "execution_count": 1,
   "metadata": {},
   "outputs": [],
   "source": [
    "#1\n",
    "def vowel_links(txt):\n",
    "        vow = 'aeiou'\n",
    "        word = txt.split()  \n",
    "        word_len = len(word)\n",
    "        for i in range(word_len-1):\n",
    "            if word[i][-1] in vow:\n",
    "                if word[i+1][0] in vow:\n",
    "                    return True\n",
    "                    break;\n",
    "            else:\n",
    "                if i == word_len-2:\n",
    "                    return False"
   ]
  },
  {
   "cell_type": "code",
   "execution_count": 2,
   "metadata": {},
   "outputs": [
    {
     "data": {
      "text/plain": [
       "True"
      ]
     },
     "execution_count": 2,
     "metadata": {},
     "output_type": "execute_result"
    }
   ],
   "source": [
    "vowel_links(\"a very large appliance\")"
   ]
  },
  {
   "cell_type": "code",
   "execution_count": 3,
   "metadata": {},
   "outputs": [],
   "source": [
    "#2\n",
    "def first_before_second(string,one_letter,second_letter):\n",
    "  \n",
    "        lst1 = [i for i, j in enumerate(string) if j == one_letter ]\n",
    "        lst2 = [k for k, l in enumerate(string) if l == second_letter]\n",
    "\n",
    "        print(all(lst2) > all(lst1))"
   ]
  },
  {
   "cell_type": "code",
   "execution_count": 4,
   "metadata": {},
   "outputs": [
    {
     "name": "stdout",
     "output_type": "stream",
     "text": [
      "False\n"
     ]
    }
   ],
   "source": [
    "first_before_second(\"happy birthday\", \"a\", \"y\")"
   ]
  },
  {
   "cell_type": "code",
   "execution_count": 33,
   "metadata": {},
   "outputs": [],
   "source": [
    "def char_at_pos(arg,pos):\n",
    "    ls=[]\n",
    "    word=\"\"\n",
    "    if pos=='odd':\n",
    "        for i in range(0,len(arg),2):\n",
    "            if isinstance(arg, str):\n",
    "                word+=arg[i]\n",
    "            else:\n",
    "                ls.append(arg[i])\n",
    "    elif pos=='even':\n",
    "        for i in range(1,len(arg),2):\n",
    "            if isinstance(arg, str):\n",
    "                word+=arg[i]\n",
    "            ls.append(arg[i])\n",
    "    return word if ls==[] else ls"
   ]
  },
  {
   "cell_type": "code",
   "execution_count": 34,
   "metadata": {},
   "outputs": [
    {
     "data": {
      "text/plain": [
       "'EAI'"
      ]
     },
     "execution_count": 34,
     "metadata": {},
     "output_type": "execute_result"
    }
   ],
   "source": [
    "char_at_pos(\"EDABIT\", \"odd\")"
   ]
  },
  {
   "cell_type": "code",
   "execution_count": 35,
   "metadata": {},
   "outputs": [
    {
     "data": {
      "text/plain": [
       "[4, 8]"
      ]
     },
     "execution_count": 35,
     "metadata": {},
     "output_type": "execute_result"
    }
   ],
   "source": [
    "char_at_pos([2, 4, 6, 8, 10], \"even\") "
   ]
  },
  {
   "cell_type": "code",
   "execution_count": 36,
   "metadata": {},
   "outputs": [],
   "source": [
    "#4\n",
    "import math\n",
    "def GCD(nums):\n",
    "        common_divisor = min(nums)        \n",
    "        for i in range(len(nums)):            \n",
    "            common_divisor = math.gcd(common_divisor,nums[i])\n",
    "        return common_divisor"
   ]
  },
  {
   "cell_type": "code",
   "execution_count": 37,
   "metadata": {},
   "outputs": [
    {
     "data": {
      "text/plain": [
       "10"
      ]
     },
     "execution_count": 37,
     "metadata": {},
     "output_type": "execute_result"
    }
   ],
   "source": [
    "GCD([10, 20, 40])"
   ]
  },
  {
   "cell_type": "code",
   "execution_count": 39,
   "metadata": {},
   "outputs": [],
   "source": [
    "#5\n",
    "def palindrome_type(num):\n",
    "        if str(num) == str(num)[::-1] and str(bin(num)[2:]) != str(bin(num)[2:])[::-1]:\n",
    "            print ('Decimal only.')\n",
    "        elif str(num) != str(num)[::-1] and str(bin(num)[2:]) == str(bin(num)[2:])[::-1]:\n",
    "            print ('Binary only.')\n",
    "        elif str(num) == str(num)[::-1] and str(bin(num)[2:]) == str(bin(num)[2:])[::-1]:\n",
    "            print ('Decimal and binary.')\n",
    "        else:\n",
    "            print ('Neither!')"
   ]
  },
  {
   "cell_type": "code",
   "execution_count": 40,
   "metadata": {},
   "outputs": [
    {
     "name": "stdout",
     "output_type": "stream",
     "text": [
      "Decimal only.\n",
      "Binary only.\n",
      "Decimal and binary.\n",
      "Neither!\n"
     ]
    }
   ],
   "source": [
    "palindrome_type(1306031) \n",
    "palindrome_type(427787) \n",
    "palindrome_type(313)\n",
    "palindrome_type(934)"
   ]
  },
  {
   "cell_type": "code",
   "execution_count": null,
   "metadata": {},
   "outputs": [],
   "source": []
  }
 ],
 "metadata": {
  "kernelspec": {
   "display_name": "Python 3",
   "language": "python",
   "name": "python3"
  },
  "language_info": {
   "codemirror_mode": {
    "name": "ipython",
    "version": 3
   },
   "file_extension": ".py",
   "mimetype": "text/x-python",
   "name": "python",
   "nbconvert_exporter": "python",
   "pygments_lexer": "ipython3",
   "version": "3.8.5"
  }
 },
 "nbformat": 4,
 "nbformat_minor": 4
}
