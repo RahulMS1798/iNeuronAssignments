{
 "cells": [
  {
   "cell_type": "code",
   "execution_count": 1,
   "metadata": {},
   "outputs": [],
   "source": [
    "#1\n",
    "import numpy as np\n",
    "class Sudoku:\n",
    "    def __init__(self,string):\n",
    "        self.board = np.array(list(map(int,string))).reshape(9,9)\n",
    "        \n",
    "    def get_row(self,n):\n",
    "        return self.board[n].tolist()\n",
    "    \n",
    "    def get_col(self,n):\n",
    "        return self.board[:,n].tolist()\n",
    "    \n",
    "    def get_sqr(self, n, m = None):\n",
    "        if m:\n",
    "            row = int(n/3)*3\n",
    "            col = int(m/3)*3\n",
    "        else:\n",
    "            row = int(n/3)*3\n",
    "            col = int(n%3)*3\n",
    "        \n",
    "        res = [self.board[i][j] for i in range(row,row+3) for j in range(col,col+3)]\n",
    "        return res"
   ]
  },
  {
   "cell_type": "code",
   "execution_count": 2,
   "metadata": {},
   "outputs": [],
   "source": [
    "game = Sudoku(\"417950030000000700060007000050009106800600000000003400900005000000430000200701580\")\n"
   ]
  },
  {
   "cell_type": "code",
   "execution_count": 3,
   "metadata": {},
   "outputs": [
    {
     "data": {
      "text/plain": [
       "[4, 1, 7, 9, 5, 0, 0, 3, 0]"
      ]
     },
     "execution_count": 3,
     "metadata": {},
     "output_type": "execute_result"
    }
   ],
   "source": [
    "game.get_row(0)"
   ]
  },
  {
   "cell_type": "code",
   "execution_count": 4,
   "metadata": {},
   "outputs": [
    {
     "data": {
      "text/plain": [
       "[0, 0, 0, 6, 0, 0, 0, 0, 0]"
      ]
     },
     "execution_count": 4,
     "metadata": {},
     "output_type": "execute_result"
    }
   ],
   "source": [
    "game.get_col(8)"
   ]
  },
  {
   "cell_type": "code",
   "execution_count": 5,
   "metadata": {},
   "outputs": [
    {
     "data": {
      "text/plain": [
       "[9, 5, 0, 0, 0, 0, 0, 0, 7]"
      ]
     },
     "execution_count": 5,
     "metadata": {},
     "output_type": "execute_result"
    }
   ],
   "source": [
    "game.get_sqr(1)"
   ]
  },
  {
   "cell_type": "code",
   "execution_count": 6,
   "metadata": {},
   "outputs": [
    {
     "data": {
      "text/plain": [
       "[0, 3, 0, 7, 0, 0, 0, 0, 0]"
      ]
     },
     "execution_count": 6,
     "metadata": {},
     "output_type": "execute_result"
    }
   ],
   "source": [
    "game.get_sqr(1, 8)"
   ]
  },
  {
   "cell_type": "code",
   "execution_count": 7,
   "metadata": {},
   "outputs": [
    {
     "data": {
      "text/plain": [
       "[0, 0, 5, 4, 3, 0, 7, 0, 1]"
      ]
     },
     "execution_count": 7,
     "metadata": {},
     "output_type": "execute_result"
    }
   ],
   "source": [
    "game.get_sqr(8, 3)"
   ]
  },
  {
   "cell_type": "code",
   "execution_count": 8,
   "metadata": {},
   "outputs": [],
   "source": [
    "#2\n",
    "class ListNode:\n",
    "    def __init__(self, val=0, next=None):\n",
    "        self.val = val\n",
    "        self.next = next\n",
    "        \n",
    "    def add_two_Numbers(self, listnode1, listnode2):\n",
    "        \n",
    "        res = ListNode(0)\n",
    "        reverse_res = res\n",
    "        remainder = 0\n",
    "                \n",
    "        while listnode1 or listnode2 or remainder:            \n",
    "            ans1  = listnode1.val if listnode1 else 0\n",
    "            ans2  = listnode2.val if listnode2 else 0\n",
    "            \n",
    "            remainder, div = divmod(ans1 + ans2 + remainder, 10)    \n",
    "                      \n",
    "            reverse_res.next = ListNode(div)\n",
    "            reverse_res = reverse_res.next                      \n",
    "            \n",
    "            listnode1 = listnode1.next if listnode1 else None\n",
    "            listnode2 = listnode2.next if listnode1 else None\n",
    "               \n",
    "        return res.next"
   ]
  },
  {
   "cell_type": "code",
   "execution_count": 9,
   "metadata": {},
   "outputs": [
    {
     "ename": "NameError",
     "evalue": "name 'add_two_numbers' is not defined",
     "output_type": "error",
     "traceback": [
      "\u001b[1;31m---------------------------------------------------------------------------\u001b[0m",
      "\u001b[1;31mNameError\u001b[0m                                 Traceback (most recent call last)",
      "\u001b[1;32m<ipython-input-9-c4ee4fffdad0>\u001b[0m in \u001b[0;36m<module>\u001b[1;34m\u001b[0m\n\u001b[0;32m      1\u001b[0m \u001b[0mlt1\u001b[0m \u001b[1;33m=\u001b[0m \u001b[0mListNode\u001b[0m\u001b[1;33m(\u001b[0m\u001b[1;36m0\u001b[0m\u001b[1;33m)\u001b[0m\u001b[1;33m\u001b[0m\u001b[1;33m\u001b[0m\u001b[0m\n\u001b[0;32m      2\u001b[0m \u001b[0mlt2\u001b[0m \u001b[1;33m=\u001b[0m \u001b[0mListNode\u001b[0m\u001b[1;33m(\u001b[0m\u001b[1;36m0\u001b[0m\u001b[1;33m)\u001b[0m\u001b[1;33m\u001b[0m\u001b[1;33m\u001b[0m\u001b[0m\n\u001b[1;32m----> 3\u001b[1;33m \u001b[0madd_two_numbers\u001b[0m\u001b[1;33m(\u001b[0m\u001b[0mlt1\u001b[0m\u001b[1;33m,\u001b[0m\u001b[0mlt2\u001b[0m\u001b[1;33m)\u001b[0m\u001b[1;33m\u001b[0m\u001b[1;33m\u001b[0m\u001b[0m\n\u001b[0m",
      "\u001b[1;31mNameError\u001b[0m: name 'add_two_numbers' is not defined"
     ]
    }
   ],
   "source": [
    "lt1 = ListNode(0)\n",
    "lt2 = ListNode(0)\n",
    "add_two_numbers(lt1,lt2)\n"
   ]
  },
  {
   "cell_type": "code",
   "execution_count": 10,
   "metadata": {},
   "outputs": [],
   "source": [
    "#3\n",
    "class CoffeeShop:\n",
    "    def __init__(self,name, menu):\n",
    "        self.name = name\n",
    "        self.menu = menu\n",
    "        self.orders = []\n",
    "        \n",
    "    def add_order(self,item_name):\n",
    "        items = [order['name'].lower() for order in self.menu]\n",
    "        if  item_name in items:\n",
    "            print(\"Order added!\")\n",
    "            self.orders.append(item_name)\n",
    "        else:\n",
    "            print( \"This item is currently unavailable!\")\n",
    "        \n",
    "    def fulfill_order(self):\n",
    "        if len(self.orders)  != 0:\n",
    "            print(f\"The {self.orders.pop(0)} is ready!\")\n",
    "        else:\n",
    "            print( \"All orders have been fulfilled!\")\n",
    "        \n",
    "    def list_orders(self):\n",
    "        return self.orders\n",
    "        \n",
    "    def due_amount(self):\n",
    "        res = [order['price'] for order in self.menu if order['name'].lower() in self.orders]\n",
    "        return round(sum(res),4)\n",
    "    \n",
    "    def cheapest_item(self):\n",
    "        cheapest = min([order['price'] for order in self.menu])\n",
    "        for order in self.menu:\n",
    "            if order[\"price\"] == cheapest:\n",
    "                res = order[\"name\"]\n",
    "                break\n",
    "        return res\n",
    "    \n",
    "    def drinks_only(self):\n",
    "        res = [order['name'] for order in self.menu if order['type'] == 'drink']\n",
    "        return res\n",
    "    \n",
    "    def food_only(self):\n",
    "        res = [order['name'] for order in self.menu if order['type'] == 'food']\n",
    "        return res"
   ]
  },
  {
   "cell_type": "code",
   "execution_count": 11,
   "metadata": {},
   "outputs": [],
   "source": [
    "name = \"Radinas\"\n",
    "menu = [{'name':'cinnamon roll','type':'food','price': 2.35},{'name':'Soup of the Day','type':'food','price': 3.5},{'name':'Pizza','type':'food','price': 5.0},  {'name':'Sandwich','type':'food','price': 3.0},{'name':'Juice','type':'drink','price':2.0},{'name':'Green Tea','type':'drink','price':3.0},{'name':'Chai Latte','type':'drink','price':4.50},{'name':'Expresso','type':'drink','price':1.00},{'name':'iced coffee','type':'drink','price':3.45},{'name':'Cappuccino','type':'drink','price':4.45}]\n"
   ]
  },
  {
   "cell_type": "code",
   "execution_count": 12,
   "metadata": {},
   "outputs": [],
   "source": [
    "tcs=CoffeeShop(name,menu)"
   ]
  },
  {
   "cell_type": "code",
   "execution_count": 13,
   "metadata": {},
   "outputs": [
    {
     "name": "stdout",
     "output_type": "stream",
     "text": [
      "This item is currently unavailable!\n"
     ]
    }
   ],
   "source": [
    "tcs.add_order(\"hot cocoa\") "
   ]
  },
  {
   "cell_type": "code",
   "execution_count": 14,
   "metadata": {},
   "outputs": [
    {
     "name": "stdout",
     "output_type": "stream",
     "text": [
      "Order added!\n",
      "Order added!\n"
     ]
    }
   ],
   "source": [
    "tcs.add_order(\"cinnamon roll\")\n",
    "tcs.add_order(\"iced coffee\")"
   ]
  },
  {
   "cell_type": "code",
   "execution_count": 15,
   "metadata": {},
   "outputs": [
    {
     "data": {
      "text/plain": [
       "['cinnamon roll', 'iced coffee']"
      ]
     },
     "execution_count": 15,
     "metadata": {},
     "output_type": "execute_result"
    }
   ],
   "source": [
    "tcs.list_orders()"
   ]
  },
  {
   "cell_type": "code",
   "execution_count": 16,
   "metadata": {},
   "outputs": [
    {
     "data": {
      "text/plain": [
       "5.8"
      ]
     },
     "execution_count": 16,
     "metadata": {},
     "output_type": "execute_result"
    }
   ],
   "source": [
    "tcs.due_amount()"
   ]
  },
  {
   "cell_type": "code",
   "execution_count": 18,
   "metadata": {},
   "outputs": [
    {
     "name": "stdout",
     "output_type": "stream",
     "text": [
      "The cinnamon roll is ready!\n"
     ]
    }
   ],
   "source": [
    "tcs.fulfill_order()"
   ]
  },
  {
   "cell_type": "code",
   "execution_count": 19,
   "metadata": {},
   "outputs": [
    {
     "name": "stdout",
     "output_type": "stream",
     "text": [
      "The iced coffee is ready!\n"
     ]
    }
   ],
   "source": [
    "tcs.fulfill_order()"
   ]
  },
  {
   "cell_type": "code",
   "execution_count": 20,
   "metadata": {},
   "outputs": [
    {
     "name": "stdout",
     "output_type": "stream",
     "text": [
      "All orders have been fulfilled!\n"
     ]
    }
   ],
   "source": [
    "tcs.fulfill_order()"
   ]
  },
  {
   "cell_type": "code",
   "execution_count": 21,
   "metadata": {},
   "outputs": [
    {
     "data": {
      "text/plain": [
       "[]"
      ]
     },
     "execution_count": 21,
     "metadata": {},
     "output_type": "execute_result"
    }
   ],
   "source": [
    "tcs.list_orders()\n"
   ]
  },
  {
   "cell_type": "code",
   "execution_count": 22,
   "metadata": {},
   "outputs": [
    {
     "data": {
      "text/plain": [
       "0"
      ]
     },
     "execution_count": 22,
     "metadata": {},
     "output_type": "execute_result"
    }
   ],
   "source": [
    "tcs.due_amount()"
   ]
  },
  {
   "cell_type": "code",
   "execution_count": 23,
   "metadata": {},
   "outputs": [
    {
     "data": {
      "text/plain": [
       "'Expresso'"
      ]
     },
     "execution_count": 23,
     "metadata": {},
     "output_type": "execute_result"
    }
   ],
   "source": [
    "tcs.cheapest_item()"
   ]
  },
  {
   "cell_type": "code",
   "execution_count": 24,
   "metadata": {},
   "outputs": [
    {
     "data": {
      "text/plain": [
       "['Juice', 'Green Tea', 'Chai Latte', 'Expresso', 'iced coffee', 'Cappuccino']"
      ]
     },
     "execution_count": 24,
     "metadata": {},
     "output_type": "execute_result"
    }
   ],
   "source": [
    "tcs.drinks_only()"
   ]
  },
  {
   "cell_type": "code",
   "execution_count": 25,
   "metadata": {},
   "outputs": [
    {
     "data": {
      "text/plain": [
       "['cinnamon roll', 'Soup of the Day', 'Pizza', 'Sandwich']"
      ]
     },
     "execution_count": 25,
     "metadata": {},
     "output_type": "execute_result"
    }
   ],
   "source": [
    "tcs.food_only()"
   ]
  },
  {
   "cell_type": "code",
   "execution_count": 26,
   "metadata": {},
   "outputs": [],
   "source": [
    "#4\n",
    "from sympy import nextprime,prevprime\n",
    "\n",
    "def loneliest_number(low,high):\n",
    "    output = {\"number\":0,\"distance\":0,\"closest\":0}\n",
    "    for num in range(low,high+1):\n",
    "        prime_nums = [prevprime(num) if num > 2 else nextprime(num),nextprime(num)]\n",
    "        if num - prime_nums[0] == prime_nums[1] - num:\n",
    "            closest = prime_nums[1]\n",
    "        else:\n",
    "            closest = prime_nums[0] if num - prime_nums[0] < prime_nums[1] - num else prime_nums[1]\n",
    "        if abs(closest - num) > output[\"distance\"]:\n",
    "            output[\"number\"] = num\n",
    "            output[\"distance\"]=abs(closest-num)\n",
    "            output[\"closest\"]=closest\n",
    "             \n",
    "    return output"
   ]
  },
  {
   "cell_type": "code",
   "execution_count": 27,
   "metadata": {},
   "outputs": [
    {
     "data": {
      "text/plain": [
       "{'number': 0, 'distance': 2, 'closest': 2}"
      ]
     },
     "execution_count": 27,
     "metadata": {},
     "output_type": "execute_result"
    }
   ],
   "source": [
    "loneliest_number(0,22)"
   ]
  },
  {
   "cell_type": "code",
   "execution_count": 28,
   "metadata": {},
   "outputs": [
    {
     "data": {
      "text/plain": [
       "{'number': 120, 'distance': 7, 'closest': 127}"
      ]
     },
     "execution_count": 28,
     "metadata": {},
     "output_type": "execute_result"
    }
   ],
   "source": [
    "loneliest_number(8, 123)"
   ]
  },
  {
   "cell_type": "code",
   "execution_count": null,
   "metadata": {},
   "outputs": [],
   "source": [
    "class selfie:\n",
    "    global state=[]\n",
    "    def __init__(n):\n",
    "        self.x=x\n",
    "        state.append(n)\n",
    "    def save_state():\n",
    "        \n",
    "    "
   ]
  }
 ],
 "metadata": {
  "kernelspec": {
   "display_name": "Python 3",
   "language": "python",
   "name": "python3"
  },
  "language_info": {
   "codemirror_mode": {
    "name": "ipython",
    "version": 3
   },
   "file_extension": ".py",
   "mimetype": "text/x-python",
   "name": "python",
   "nbconvert_exporter": "python",
   "pygments_lexer": "ipython3",
   "version": "3.8.5"
  }
 },
 "nbformat": 4,
 "nbformat_minor": 4
}
