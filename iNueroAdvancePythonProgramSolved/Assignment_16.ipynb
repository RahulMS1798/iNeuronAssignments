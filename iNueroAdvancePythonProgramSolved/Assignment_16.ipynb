{
 "cells": [
  {
   "cell_type": "code",
   "execution_count": 1,
   "metadata": {},
   "outputs": [],
   "source": [
    "#1\n",
    "def valid_rondo(string):\n",
    "        string = list(string.replace('A',''))\n",
    "        if len(string) == 0:\n",
    "            return False\n",
    "        elif len(string) == 1:\n",
    "            return True\n",
    "        else:\n",
    "            for i in range(len(string) - 1):\n",
    "                if ord(string[i + 1]) > ord(string[i]):\n",
    "                    return True\n",
    "                else:\n",
    "                    return False\n",
    "                    break"
   ]
  },
  {
   "cell_type": "code",
   "execution_count": 2,
   "metadata": {},
   "outputs": [
    {
     "data": {
      "text/plain": [
       "True"
      ]
     },
     "execution_count": 2,
     "metadata": {},
     "output_type": "execute_result"
    }
   ],
   "source": [
    "valid_rondo(\"ABACADAEAFAGAHAIAJA\")"
   ]
  },
  {
   "cell_type": "code",
   "execution_count": 3,
   "metadata": {},
   "outputs": [],
   "source": [
    "#2\n",
    "def sentence_searcher(txt, word) :\n",
    "   \n",
    "        sent_list = txt.split(\".\")\n",
    "        res = \"\"\n",
    "        for i in sent_list:\n",
    "            if word.lower() in i.lower():\n",
    "                res = (i + '.').lstrip()\n",
    "                break\n",
    "        return res"
   ]
  },
  {
   "cell_type": "code",
   "execution_count": 4,
   "metadata": {},
   "outputs": [
    {
     "data": {
      "text/plain": [
       "'I have a cat.'"
      ]
     },
     "execution_count": 4,
     "metadata": {},
     "output_type": "execute_result"
    }
   ],
   "source": [
    "txt = \"I have a cat. I have a mat. Things are going swell.\"\n",
    "sentence_searcher(txt, \"have\")"
   ]
  },
  {
   "cell_type": "code",
   "execution_count": 5,
   "metadata": {},
   "outputs": [],
   "source": [
    "#3\n",
    "def sum_round(num) :\n",
    "        res = \"\"\n",
    "        num_string = str(num)\n",
    "        for i in range(len(num_string)):\n",
    "            \n",
    "            if int(num_string[-(i+1)]) > 0:\n",
    "                \n",
    "                res += str(int(num_string[-(i+1)]) * (10**i) ) + \" \"\n",
    "                \n",
    "        return res.rstrip()"
   ]
  },
  {
   "cell_type": "code",
   "execution_count": 6,
   "metadata": {},
   "outputs": [
    {
     "data": {
      "text/plain": [
       "'1 100'"
      ]
     },
     "execution_count": 6,
     "metadata": {},
     "output_type": "execute_result"
    }
   ],
   "source": [
    "sum_round(101)"
   ]
  },
  {
   "cell_type": "code",
   "execution_count": 7,
   "metadata": {},
   "outputs": [],
   "source": [
    "#4\n",
    "def multiplication_table(par):\n",
    "        res = []\n",
    "        for i in range(1,par+1):\n",
    "            lst = []\n",
    "            for j in range(1,par+1):\n",
    "                lst.append(i*j)\n",
    "            res.append(lst)\n",
    "        return res"
   ]
  },
  {
   "cell_type": "code",
   "execution_count": 8,
   "metadata": {},
   "outputs": [
    {
     "data": {
      "text/plain": [
       "[[1, 2, 3], [2, 4, 6], [3, 6, 9]]"
      ]
     },
     "execution_count": 8,
     "metadata": {},
     "output_type": "execute_result"
    }
   ],
   "source": [
    "multiplication_table(3)"
   ]
  },
  {
   "cell_type": "code",
   "execution_count": 9,
   "metadata": {},
   "outputs": [],
   "source": [
    "#5\n",
    "def does_rhyme(sent1,sent2):\n",
    "        vowels = 'aeiou'\n",
    "        sent1 = sent1.split(\" \")[-1].lower()\n",
    "        sent2 = sent2.split(\" \")[-1].lower()\n",
    "        \n",
    "        sent1_vowel = [i for i in sent1 if i in vowels]\n",
    "        sent2_vowel = [j for j in sent2 if j in vowels]\n",
    "        \n",
    "        if sent1_vowel == sent2_vowel:\n",
    "            return True\n",
    "        else:\n",
    "            return False"
   ]
  },
  {
   "cell_type": "code",
   "execution_count": 10,
   "metadata": {},
   "outputs": [
    {
     "data": {
      "text/plain": [
       "False"
      ]
     },
     "execution_count": 10,
     "metadata": {},
     "output_type": "execute_result"
    }
   ],
   "source": [
    "does_rhyme(\"You are off to the races\", \"a splendid day.\")"
   ]
  },
  {
   "cell_type": "code",
   "execution_count": null,
   "metadata": {},
   "outputs": [],
   "source": []
  }
 ],
 "metadata": {
  "kernelspec": {
   "display_name": "Python 3",
   "language": "python",
   "name": "python3"
  },
  "language_info": {
   "codemirror_mode": {
    "name": "ipython",
    "version": 3
   },
   "file_extension": ".py",
   "mimetype": "text/x-python",
   "name": "python",
   "nbconvert_exporter": "python",
   "pygments_lexer": "ipython3",
   "version": "3.8.5"
  }
 },
 "nbformat": 4,
 "nbformat_minor": 4
}
