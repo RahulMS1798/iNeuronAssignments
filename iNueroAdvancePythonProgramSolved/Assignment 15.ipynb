{
 "cells": [
  {
   "cell_type": "code",
   "execution_count": 1,
   "metadata": {},
   "outputs": [],
   "source": [
    "#1\n",
    "def anagram(word,input_list):\n",
    "        word = list(''.join(word.split(' ')).lower())\n",
    "        word_clone = word.copy()\n",
    "        input_list = list(''.join(input_list))  \n",
    "        input_list_clone = input_list\n",
    "        [word.remove(ele) for ele in input_list if ele in word]\n",
    "        [input_list_clone.remove(ele) for ele in word_clone if ele in input_list_clone]\n",
    "        if len(word + input_list) > 0:\n",
    "            return False\n",
    "        else:\n",
    "            return True"
   ]
  },
  {
   "cell_type": "code",
   "execution_count": 2,
   "metadata": {},
   "outputs": [
    {
     "data": {
      "text/plain": [
       "True"
      ]
     },
     "execution_count": 2,
     "metadata": {},
     "output_type": "execute_result"
    }
   ],
   "source": [
    "anagram(\"Justin Bieber\", [\"injures\", \"ebb\", \"it\"])\n"
   ]
  },
  {
   "cell_type": "code",
   "execution_count": 3,
   "metadata": {},
   "outputs": [],
   "source": [
    "#2\n",
    "def leaderboards(users):\n",
    "    \n",
    "        score=[]\n",
    "        for i in range(len(users)):            \n",
    "            score.append( users[i][\"score\"] + users[i][\"reputation\"] * 2 )\n",
    "            \n",
    "        res = []\n",
    "        for _,j in sorted(zip(score,users),reverse=True):\n",
    "            res.append(j)        \n",
    "        return res"
   ]
  },
  {
   "cell_type": "code",
   "execution_count": 4,
   "metadata": {},
   "outputs": [
    {
     "data": {
      "text/plain": [
       "[{'name': 'c', 'score': 115, 'reputation': 30},\n",
       " {'name': 'b', 'score': 90, 'reputation': 40},\n",
       " {'name': 'a', 'score': 100, 'reputation': 20}]"
      ]
     },
     "execution_count": 4,
     "metadata": {},
     "output_type": "execute_result"
    }
   ],
   "source": [
    "leaderboards([ { \"name\": \"a\", \"score\": 100, \"reputation\": 20 }, { \"name\": \"b\", \"score\": 90, \"reputation\": 40 }, { \"name\": \"c\", \"score\": 115, \"reputation\": 30 }, ])\n"
   ]
  },
  {
   "cell_type": "code",
   "execution_count": 5,
   "metadata": {},
   "outputs": [],
   "source": [
    "#3\n",
    "def hangman(word,string_list):\n",
    "    \n",
    "        symbols = {'~', ':', \"'\", '+', '[', '\\\\', '@', '^', '{', '%', '(', '-', '\"', '*', '|', ',', '&', '<', '`', '}', '.', '_', '=', ']', '!', '>', ';', '?', '#', '$', ')', '/'}\n",
    "\n",
    "        res = ''\n",
    "        \n",
    "        for i in word:\n",
    "            if i.lower() in string_list:                \n",
    "                res = res + i                \n",
    "            else:                \n",
    "                if i in symbols:\n",
    "                    res = res + i                    \n",
    "                else:                    \n",
    "                    res = res + '-'\n",
    "        return res"
   ]
  },
  {
   "cell_type": "code",
   "execution_count": 6,
   "metadata": {},
   "outputs": [
    {
     "data": {
      "text/plain": [
       "'-e---o--e-'"
      ]
     },
     "execution_count": 6,
     "metadata": {},
     "output_type": "execute_result"
    }
   ],
   "source": [
    "hangman(\"helicopter\", [\"o\", \"e\", \"s\"])\n"
   ]
  },
  {
   "cell_type": "code",
   "execution_count": 7,
   "metadata": {},
   "outputs": [],
   "source": [
    "#4\n",
    "def max_collatz(integer):\n",
    "        collatz_seq = [integer]\n",
    "        \n",
    "        while integer > 1:\n",
    "            if integer % 2 == 0:\n",
    "                integer = integer / 2\n",
    "                collatz_seq.append(int(integer))\n",
    "            else:\n",
    "                integer = integer * 3 + 1\n",
    "                collatz_seq.append(int(integer))\n",
    "        return max(collatz_seq)"
   ]
  },
  {
   "cell_type": "code",
   "execution_count": 8,
   "metadata": {},
   "outputs": [
    {
     "data": {
      "text/plain": [
       "16"
      ]
     },
     "execution_count": 8,
     "metadata": {},
     "output_type": "execute_result"
    }
   ],
   "source": [
    "max_collatz(10)\n"
   ]
  },
  {
   "cell_type": "code",
   "execution_count": 9,
   "metadata": {},
   "outputs": [],
   "source": [
    "#5\n",
    "def digit_sort(arr):\n",
    "        length = set([len(str(x)) for x in arr])\n",
    "        res = []\n",
    "        for i in list(length)[::-1]:\n",
    "            lst = []\n",
    "            for j in range(len(arr)):\n",
    "                if len(str(arr[j])) == i:\n",
    "                    lst.append(arr[j])\n",
    "            res.append(lst)\n",
    "\n",
    "        ans = [sorted(ele) for ele in res]\n",
    "        return sum(ans, [])"
   ]
  },
  {
   "cell_type": "code",
   "execution_count": 10,
   "metadata": {},
   "outputs": [
    {
     "data": {
      "text/plain": [
       "[444, 563, 789, 1, 2, 5, 9]"
      ]
     },
     "execution_count": 10,
     "metadata": {},
     "output_type": "execute_result"
    }
   ],
   "source": [
    "digit_sort([1, 5, 9, 2, 789, 563, 444])\n"
   ]
  },
  {
   "cell_type": "code",
   "execution_count": null,
   "metadata": {},
   "outputs": [],
   "source": []
  }
 ],
 "metadata": {
  "kernelspec": {
   "display_name": "Python 3",
   "language": "python",
   "name": "python3"
  },
  "language_info": {
   "codemirror_mode": {
    "name": "ipython",
    "version": 3
   },
   "file_extension": ".py",
   "mimetype": "text/x-python",
   "name": "python",
   "nbconvert_exporter": "python",
   "pygments_lexer": "ipython3",
   "version": "3.8.5"
  }
 },
 "nbformat": 4,
 "nbformat_minor": 4
}
