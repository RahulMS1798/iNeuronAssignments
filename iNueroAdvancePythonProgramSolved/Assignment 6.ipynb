{
 "cells": [
  {
   "cell_type": "markdown",
   "metadata": {},
   "source": [
    "Assignment6"
   ]
  },
  {
   "cell_type": "code",
   "execution_count": null,
   "metadata": {},
   "outputs": [],
   "source": []
  },
  {
   "cell_type": "code",
   "execution_count": 1,
   "metadata": {},
   "outputs": [],
   "source": [
    "def find_the_difference(str1, str2):\n",
    "        li1 = list(str1)\n",
    "        li2 = list(str2)\n",
    "        for i in li1:\n",
    "            li2.remove(i)\n",
    "        return li2"
   ]
  },
  {
   "cell_type": "code",
   "execution_count": 21,
   "metadata": {},
   "outputs": [
    {
     "data": {
      "text/plain": [
       "['e']"
      ]
     },
     "execution_count": 21,
     "metadata": {},
     "output_type": "execute_result"
    }
   ],
   "source": [
    "find_the_difference(\"abcd\", \"abcde\")"
   ]
  },
  {
   "cell_type": "code",
   "execution_count": 5,
   "metadata": {},
   "outputs": [],
   "source": [
    "#2\n",
    "def count_datatypes(*args):\n",
    "        datatype = {\"int\":0,\"str\":0,\"bool\":0,\"list\":0,\"tuple\":0,\"dict\":0}\n",
    "        for i in args:            \n",
    "            if type(i) == int:\n",
    "                datatype[\"int\"] += 1\n",
    "            elif type(i) == bool:\n",
    "                datatype[\"bool\"] += 1\n",
    "            elif type(i) == str:\n",
    "                datatype[\"str\"] += 1\n",
    "            elif type(i) == list:\n",
    "                datatype[\"list\"] += 1\n",
    "            elif type(i) == tuple:\n",
    "                datatype[\"tuple\"] += 1\n",
    "            elif type(i) == dict:\n",
    "                datatype[\"dict\"] += 1\n",
    "            else:\n",
    "                print (f\"{type(i)} is not a valid datatype\")\n",
    "                \n",
    "        return list(datatype.values())"
   ]
  },
  {
   "cell_type": "code",
   "execution_count": 6,
   "metadata": {},
   "outputs": [
    {
     "data": {
      "text/plain": [
       "[2, 1, 1, 0, 0, 0]"
      ]
     },
     "execution_count": 6,
     "metadata": {},
     "output_type": "execute_result"
    }
   ],
   "source": [
    "count_datatypes(1, 45, \"Hi\", False)"
   ]
  },
  {
   "cell_type": "code",
   "execution_count": 7,
   "metadata": {},
   "outputs": [
    {
     "data": {
      "text/plain": [
       "[2, 0, 1, 2, 2, 0]"
      ]
     },
     "execution_count": 7,
     "metadata": {},
     "output_type": "execute_result"
    }
   ],
   "source": [
    "count_datatypes(4, 21, (\"ES\", \"EN\"), (\"a\", \"b\"), False, [1, 2, 3], [4, 5, 6]) "
   ]
  },
  {
   "cell_type": "code",
   "execution_count": 8,
   "metadata": {},
   "outputs": [],
   "source": [
    "#3\n",
    "def fib_str(length,lst):\n",
    "   \n",
    "        if length == 1:\n",
    "            return lst[0]\n",
    "        else:\n",
    "            for i in range(2,length):\n",
    "                lst.append(lst[-1] + lst[-2])\n",
    "            return ', '.join(lst)"
   ]
  },
  {
   "cell_type": "code",
   "execution_count": 9,
   "metadata": {},
   "outputs": [
    {
     "data": {
      "text/plain": [
       "'n, k, kn, knk, knkkn, knkknknk'"
      ]
     },
     "execution_count": 9,
     "metadata": {},
     "output_type": "execute_result"
    }
   ],
   "source": [
    "fib_str(6, [\"n\", \"k\"])"
   ]
  },
  {
   "cell_type": "code",
   "execution_count": 14,
   "metadata": {},
   "outputs": [],
   "source": [
    "#4\n",
    "def ones_threes_nines(num):\n",
    "        nines = 0\n",
    "        threes = 0\n",
    "        ones = 0\n",
    "        \n",
    "        while num > 9:\n",
    "            nines = num // 9\n",
    "            num = num % 9\n",
    "            \n",
    "        while num > 3:\n",
    "            threes = num // 3\n",
    "            num = num % 3\n",
    "            \n",
    "        ones = num\n",
    "        res = [nines,threes,ones]\n",
    "        return f\"nines:{res[0]}, threes:{res[1]}, ones:{res[2]}\""
   ]
  },
  {
   "cell_type": "code",
   "execution_count": 15,
   "metadata": {},
   "outputs": [
    {
     "data": {
      "text/plain": [
       "'nines:1, threes:0, ones:1'"
      ]
     },
     "execution_count": 15,
     "metadata": {},
     "output_type": "execute_result"
    }
   ],
   "source": [
    "ones_threes_nines(10)"
   ]
  },
  {
   "cell_type": "code",
   "execution_count": 16,
   "metadata": {},
   "outputs": [],
   "source": [
    "#5\n",
    "def fib(num):\n",
    "        seq = [0,1]  \n",
    "        if num == 0:\n",
    "            return seq[0]\n",
    "        else:\n",
    "            for i in range(2,num+1):\n",
    "                seq.append(seq[-1]+seq[-2])\n",
    "            return seq[-1]"
   ]
  },
  {
   "cell_type": "code",
   "execution_count": 20,
   "metadata": {},
   "outputs": [
    {
     "data": {
      "text/plain": [
       "55"
      ]
     },
     "execution_count": 20,
     "metadata": {},
     "output_type": "execute_result"
    }
   ],
   "source": [
    "fib(10)"
   ]
  },
  {
   "cell_type": "code",
   "execution_count": null,
   "metadata": {},
   "outputs": [],
   "source": []
  }
 ],
 "metadata": {
  "kernelspec": {
   "display_name": "Python 3",
   "language": "python",
   "name": "python3"
  },
  "language_info": {
   "codemirror_mode": {
    "name": "ipython",
    "version": 3
   },
   "file_extension": ".py",
   "mimetype": "text/x-python",
   "name": "python",
   "nbconvert_exporter": "python",
   "pygments_lexer": "ipython3",
   "version": "3.8.5"
  }
 },
 "nbformat": 4,
 "nbformat_minor": 4
}
