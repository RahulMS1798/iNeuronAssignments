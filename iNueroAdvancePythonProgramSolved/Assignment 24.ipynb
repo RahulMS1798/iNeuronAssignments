{
 "cells": [
  {
   "cell_type": "code",
   "execution_count": 1,
   "metadata": {},
   "outputs": [],
   "source": [
    "#1\n",
    "class NestedIterator:\n",
    "    \n",
    "    def __init__(self, nested_list):\n",
    "        self.nested_list = nested_list   \n",
    "        flatten = lambda *n: (ele for item in n for ele in (flatten(*item) if isinstance(item, list) else (item,)))\n",
    "        self.flat_list = list(flatten(self.nested_list))     \n",
    "        \n",
    "    \n",
    "    def next(self):        \n",
    "        if len(self.flat_list) > 0:\n",
    "            return self.flat_list.pop(0)\n",
    "        else:\n",
    "            return \"List is empty\"\n",
    "        \n",
    "    def hasNext(self):\n",
    "        return len(self.flat_list) > 0"
   ]
  },
  {
   "cell_type": "code",
   "execution_count": 2,
   "metadata": {},
   "outputs": [
    {
     "data": {
      "text/plain": [
       "[1, 1, 2, 1, 1]"
      ]
     },
     "execution_count": 2,
     "metadata": {},
     "output_type": "execute_result"
    }
   ],
   "source": [
    "ni,actual = NestedIterator([[1, 1], 2, [1, 1]]),[]\n",
    "while ni.hasNext():\n",
    "\n",
    "    actual.append(ni.next())\n",
    "actual"
   ]
  },
  {
   "cell_type": "code",
   "execution_count": 3,
   "metadata": {},
   "outputs": [
    {
     "data": {
      "text/plain": [
       "[1, 4, 6]"
      ]
     },
     "execution_count": 3,
     "metadata": {},
     "output_type": "execute_result"
    }
   ],
   "source": [
    "ni, actual = NestedIterator([1, [4, [6]]]), []\n",
    "\n",
    "while ni.hasNext():\n",
    "\n",
    "    actual.append(ni.next())\n",
    "actual"
   ]
  },
  {
   "cell_type": "code",
   "execution_count": 5,
   "metadata": {},
   "outputs": [],
   "source": [
    "#2\n",
    "import numpy as np\n",
    "def tic_tac_toe(lst):\n",
    "        res = \"Draw\"\n",
    "        for i in lst:\n",
    "            if len(set(i)) == 1:\n",
    "                res = i[0]\n",
    "                break\n",
    "\n",
    "        for j in np.array(lst).T:\n",
    "            if len(set(j)) == 1:\n",
    "                res = j[0]\n",
    "                break\n",
    "\n",
    "        diagonal_1 = np.array(lst).diagonal()\n",
    "        if len(set(diagonal_1)) == 1:\n",
    "            res = diagonal_1[0]\n",
    "\n",
    "        diagonal_2 = np.fliplr(np.array(lst)).diagonal()\n",
    "        if len(set(diagonal_2)) == 1:\n",
    "            res = diagonal_2[0]\n",
    "\n",
    "        return res"
   ]
  },
  {
   "cell_type": "code",
   "execution_count": 6,
   "metadata": {},
   "outputs": [
    {
     "data": {
      "text/plain": [
       "'O'"
      ]
     },
     "execution_count": 6,
     "metadata": {},
     "output_type": "execute_result"
    }
   ],
   "source": [
    "tic_tac_toe([ [\"O\", \"O\", \"O\"], [\"O\", \"X\", \"X\"], [\"E\", \"X\", \"X\"] ])"
   ]
  },
  {
   "cell_type": "code",
   "execution_count": 8,
   "metadata": {},
   "outputs": [],
   "source": [
    "#4\n",
    "def remove_virus(string):\n",
    "        virus = [\"lethalmalware.exe\", \"virus.exe\",\"dangerousvirus.exe\"]\n",
    "        string = string.split(\":\")\n",
    "        pc_files,files = string[0], string[1].split(',')\n",
    "        res = [file.strip() for file in files if file.strip() not in virus]\n",
    "\n",
    "        return f\"{pc_files}: {', '.join(res)}\""
   ]
  },
  {
   "cell_type": "code",
   "execution_count": 9,
   "metadata": {},
   "outputs": [
    {
     "data": {
      "text/plain": [
       "'PC Files: antivirus.exe, cat.pdf'"
      ]
     },
     "execution_count": 9,
     "metadata": {},
     "output_type": "execute_result"
    }
   ],
   "source": [
    "remove_virus(\"PC Files: antivirus.exe, cat.pdf, lethalmalware.exe, dangerousvirus.exe \") "
   ]
  },
  {
   "cell_type": "code",
   "execution_count": 10,
   "metadata": {},
   "outputs": [],
   "source": [
    "#5\n",
    "def will_hit(trajectory,position):\n",
    "        trajectory = trajectory.split(\"=\")\n",
    "        m = trajectory[1].split(\"x\")[0]\n",
    "        b = trajectory[1].split(\" \")[-1]\n",
    "        sig = trajectory[1].split(\" \")[-2]\n",
    "        y_final = eval(' '.join([str(position[0]),'*',m,sig,b]))  \n",
    "        return y_final == position[1]"
   ]
  },
  {
   "cell_type": "code",
   "execution_count": 11,
   "metadata": {},
   "outputs": [
    {
     "data": {
      "text/plain": [
       "True"
      ]
     },
     "execution_count": 11,
     "metadata": {},
     "output_type": "execute_result"
    }
   ],
   "source": [
    "will_hit(\"y = -4x + 6\", (1, 2))"
   ]
  },
  {
   "cell_type": "code",
   "execution_count": null,
   "metadata": {},
   "outputs": [],
   "source": []
  }
 ],
 "metadata": {
  "kernelspec": {
   "display_name": "Python 3",
   "language": "python",
   "name": "python3"
  },
  "language_info": {
   "codemirror_mode": {
    "name": "ipython",
    "version": 3
   },
   "file_extension": ".py",
   "mimetype": "text/x-python",
   "name": "python",
   "nbconvert_exporter": "python",
   "pygments_lexer": "ipython3",
   "version": "3.8.5"
  }
 },
 "nbformat": 4,
 "nbformat_minor": 4
}
