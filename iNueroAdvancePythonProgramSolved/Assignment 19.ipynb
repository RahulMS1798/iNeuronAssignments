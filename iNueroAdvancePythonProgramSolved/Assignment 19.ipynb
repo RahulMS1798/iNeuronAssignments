{
 "cells": [
  {
   "cell_type": "code",
   "execution_count": 1,
   "metadata": {},
   "outputs": [],
   "source": [
    "#1\n",
    "def checker_board(n, ele1, ele2):\n",
    "        res = [[None]*n]*n\n",
    "        if ele1 != ele2:\n",
    "            for i in range(n):\n",
    "                if i % 2 == 0:\n",
    "                    for j in range(n):\n",
    "                        if j%2 == 0:\n",
    "                            res[i][j] = ele1\n",
    "                else:\n",
    "                    for k in range(n):\n",
    "                        if k%2 != 0:\n",
    "                            res[i][k] = ele2\n",
    "        else:\n",
    "            res = \"invalid\"\n",
    "        return res"
   ]
  },
  {
   "cell_type": "code",
   "execution_count": 2,
   "metadata": {},
   "outputs": [
    {
     "data": {
      "text/plain": [
       "[['A', 'B', 'A'], ['A', 'B', 'A'], ['A', 'B', 'A']]"
      ]
     },
     "execution_count": 2,
     "metadata": {},
     "output_type": "execute_result"
    }
   ],
   "source": [
    "checker_board(3, \"A\", \"B\")"
   ]
  },
  {
   "cell_type": "code",
   "execution_count": 3,
   "metadata": {},
   "outputs": [],
   "source": [
    "#2\n",
    "def almost_palindrome(string):\n",
    "        string_list = list(string)\n",
    "        count = 0\n",
    "        for i in range(int(len(string_list)/2)):\n",
    "            if string_list[i] == string_list[-(i+1)]:\n",
    "                count += 0\n",
    "            else:\n",
    "                count += 1\n",
    "        if  (count > 1):\n",
    "            return False\n",
    "        else:\n",
    "            return True\n",
    "        "
   ]
  },
  {
   "cell_type": "code",
   "execution_count": 4,
   "metadata": {},
   "outputs": [
    {
     "data": {
      "text/plain": [
       "True"
      ]
     },
     "execution_count": 4,
     "metadata": {},
     "output_type": "execute_result"
    }
   ],
   "source": [
    "almost_palindrome(\"abccia\") "
   ]
  },
  {
   "cell_type": "code",
   "execution_count": 5,
   "metadata": {},
   "outputs": [],
   "source": [
    "#3\n",
    "def is_prime(num):\n",
    "    if num > 1:\n",
    "        for i in range(2,num):\n",
    "            if num%i == 0:\n",
    "                return False\n",
    "                break\n",
    "        return True\n",
    "    else:\n",
    "        return False\n",
    "    \n",
    "def prime_numbers(num):\n",
    "        return sum(map(is_prime,range(num)))"
   ]
  },
  {
   "cell_type": "code",
   "execution_count": 6,
   "metadata": {},
   "outputs": [
    {
     "data": {
      "text/plain": [
       "8"
      ]
     },
     "execution_count": 6,
     "metadata": {},
     "output_type": "execute_result"
    }
   ],
   "source": [
    "prime_numbers(20)"
   ]
  },
  {
   "cell_type": "code",
   "execution_count": 7,
   "metadata": {},
   "outputs": [],
   "source": [
    "#4\n",
    "def after_n_days(list_of_days,n):\n",
    "        days = [\"Monday\",\"Tuesday\",\"Wednesday\",\"Thursday\",\"Friday\",\"Saturday\",\"Sunday\"]\n",
    "        res = []\n",
    "        \n",
    "        for day in list_of_days:\n",
    "            \n",
    "            day_idx = days.index(day)\n",
    "            after_n_days = (day_idx + n) % 7\n",
    "            res.append(days[after_n_days])\n",
    "            \n",
    "        return res"
   ]
  },
  {
   "cell_type": "code",
   "execution_count": 8,
   "metadata": {},
   "outputs": [
    {
     "data": {
      "text/plain": [
       "['Monday', 'Monday', 'Monday']"
      ]
     },
     "execution_count": 8,
     "metadata": {},
     "output_type": "execute_result"
    }
   ],
   "source": [
    "after_n_days([\"Sunday\", \"Sunday\", \"Sunday\"], 1) "
   ]
  },
  {
   "cell_type": "code",
   "execution_count": 9,
   "metadata": {},
   "outputs": [],
   "source": [
    "#5\n",
    "def is_correct_aliases(name_list, alias_name_list):\n",
    "        res = False\n",
    "        if len(name_list) == len(alias_name_list):\n",
    "            for i in range(len(name_list)):\n",
    "                initial = name_list[i].split(\" \")[0][0]\n",
    "                alias_inital = [init[0] for init in alias_name_list[i].split(\" \")]\n",
    "                if initial == alias_inital[0] and initial == alias_inital[1]:\n",
    "                    res = True\n",
    "                    \n",
    "        return res"
   ]
  },
  {
   "cell_type": "code",
   "execution_count": 10,
   "metadata": {},
   "outputs": [
    {
     "data": {
      "text/plain": [
       "True"
      ]
     },
     "execution_count": 10,
     "metadata": {},
     "output_type": "execute_result"
    }
   ],
   "source": [
    "is_correct_aliases([\"Adrian M.\", \"Harriet S.\", \"Mandy T.\"], [\"Amazing Artichoke\", \"Hopeful Hedgehog\", \"Marvelous Mouse\"])\n"
   ]
  },
  {
   "cell_type": "code",
   "execution_count": null,
   "metadata": {},
   "outputs": [],
   "source": []
  }
 ],
 "metadata": {
  "kernelspec": {
   "display_name": "Python 3",
   "language": "python",
   "name": "python3"
  },
  "language_info": {
   "codemirror_mode": {
    "name": "ipython",
    "version": 3
   },
   "file_extension": ".py",
   "mimetype": "text/x-python",
   "name": "python",
   "nbconvert_exporter": "python",
   "pygments_lexer": "ipython3",
   "version": "3.8.5"
  }
 },
 "nbformat": 4,
 "nbformat_minor": 4
}
