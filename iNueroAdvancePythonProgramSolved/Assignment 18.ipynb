{
 "cells": [
  {
   "cell_type": "code",
   "execution_count": 1,
   "metadata": {},
   "outputs": [],
   "source": [
    "#1\n",
    "def track_robot(instruct):\n",
    "        initial_pos = [0,0]       \n",
    "        for move in instruct:\n",
    "            command,val = move.split(\" \")\n",
    "            if command == \"left\":\n",
    "                initial_pos[0] = initial_pos[0] - int(val)\n",
    "            elif command == \"right\":\n",
    "                initial_pos[0] = initial_pos[0] + int(val)\n",
    "            elif command == \"up\":\n",
    "                initial_pos[1] = initial_pos[1] + int(val)\n",
    "            elif command == \"down\":\n",
    "                initial_pos[1] = initial_pos[1] - int(val)\n",
    "            \n",
    "        return initial_pos"
   ]
  },
  {
   "cell_type": "code",
   "execution_count": 2,
   "metadata": {},
   "outputs": [
    {
     "data": {
      "text/plain": [
       "[-20, 40]"
      ]
     },
     "execution_count": 2,
     "metadata": {},
     "output_type": "execute_result"
    }
   ],
   "source": [
    "track_robot([\"right 10\", \"up 50\", \"left 30\", \"down 10\"])"
   ]
  },
  {
   "cell_type": "code",
   "execution_count": 3,
   "metadata": {},
   "outputs": [],
   "source": [
    "#2\n",
    "import re\n",
    "def find_longest(string):\n",
    "        idx = 0\n",
    "        max_len = 0\n",
    "        string_list = string.split(\" \")\n",
    "        string_list = [re.sub('[^a-zA-Z0-9]+', '', i) for i in string_list]\n",
    "        for word_id in range(len(string_list)):\n",
    "            if len(string_list[word_id]) > max_len:\n",
    "                idx = word_id\n",
    "                max_len = len(string_list[word_id])\n",
    "        return string_list[idx].lower()"
   ]
  },
  {
   "cell_type": "code",
   "execution_count": 4,
   "metadata": {},
   "outputs": [
    {
     "data": {
      "text/plain": [
       "'forgetfulness'"
      ]
     },
     "execution_count": 4,
     "metadata": {},
     "output_type": "execute_result"
    }
   ],
   "source": [
    "find_longest(\"Forgetfulness is by all means powerless!\") "
   ]
  },
  {
   "cell_type": "code",
   "execution_count": 5,
   "metadata": {},
   "outputs": [],
   "source": [
    "#3\n",
    "def interview(questions,time):\n",
    "        result = 'qualified'\n",
    "        if len(questions) != 8 or time >120 or max(questions[0:2]) > 5 or max(questions[2:4]) > 10 or max(questions[4:6]) > 15 or max(questions[6:8]) > 20:\n",
    "            result = 'disqualified'\n",
    "        return result"
   ]
  },
  {
   "cell_type": "code",
   "execution_count": 6,
   "metadata": {},
   "outputs": [
    {
     "data": {
      "text/plain": [
       "'qualified'"
      ]
     },
     "execution_count": 6,
     "metadata": {},
     "output_type": "execute_result"
    }
   ],
   "source": [
    "interview([5, 5, 10, 10, 15, 15, 20, 20], 120)"
   ]
  },
  {
   "cell_type": "code",
   "execution_count": 7,
   "metadata": {},
   "outputs": [],
   "source": [
    "#4\n",
    "def chunkify(input_list,n):\n",
    "        res = [input_list [i:i+n] for i in range(0,len(input_list),n)]\n",
    "            \n",
    "        return res"
   ]
  },
  {
   "cell_type": "code",
   "execution_count": 8,
   "metadata": {},
   "outputs": [
    {
     "data": {
      "text/plain": [
       "[[2, 3], [4, 5], [6]]"
      ]
     },
     "execution_count": 8,
     "metadata": {},
     "output_type": "execute_result"
    }
   ],
   "source": [
    "chunkify([2, 3, 4, 5, 6], 2) "
   ]
  },
  {
   "cell_type": "code",
   "execution_count": 9,
   "metadata": {},
   "outputs": [],
   "source": [
    "#5\n",
    "def get_prices(food):\n",
    "    res = [float(i.split(\"$\")[-1][:-1]) for i in food]\n",
    "    return res"
   ]
  },
  {
   "cell_type": "code",
   "execution_count": 10,
   "metadata": {},
   "outputs": [
    {
     "data": {
      "text/plain": [
       "[1.99, 5.99, 0.75]"
      ]
     },
     "execution_count": 10,
     "metadata": {},
     "output_type": "execute_result"
    }
   ],
   "source": [
    "get_prices([ \"artichokes($1.99)\",\"rotiserrie chicken ($5.99)\",\"gum ($0.75)\" ])"
   ]
  },
  {
   "cell_type": "code",
   "execution_count": null,
   "metadata": {},
   "outputs": [],
   "source": []
  }
 ],
 "metadata": {
  "kernelspec": {
   "display_name": "Python 3",
   "language": "python",
   "name": "python3"
  },
  "language_info": {
   "codemirror_mode": {
    "name": "ipython",
    "version": 3
   },
   "file_extension": ".py",
   "mimetype": "text/x-python",
   "name": "python",
   "nbconvert_exporter": "python",
   "pygments_lexer": "ipython3",
   "version": "3.8.5"
  }
 },
 "nbformat": 4,
 "nbformat_minor": 4
}
