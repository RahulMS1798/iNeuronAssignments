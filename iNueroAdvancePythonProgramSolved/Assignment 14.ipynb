{
 "cells": [
  {
   "cell_type": "code",
   "execution_count": 1,
   "metadata": {},
   "outputs": [],
   "source": [
    "#1\n",
    "def show_the_love(num_list):\n",
    "        smallest_id = num_list.index(min(num_list))\n",
    "        for num in range(len(num_list)):\n",
    "            if num != smallest_id:\n",
    "                num_list[smallest_id] += 0.25*num_list[num]\n",
    "                num_list[num] = num_list[num]-0.25*num_list[num]\n",
    "        \n",
    "        print(num_list)"
   ]
  },
  {
   "cell_type": "code",
   "execution_count": 2,
   "metadata": {},
   "outputs": [
    {
     "name": "stdout",
     "output_type": "stream",
     "text": [
      "[3.0, 3.0, 3.0]\n"
     ]
    }
   ],
   "source": [
    "show_the_love([4, 1, 4]) "
   ]
  },
  {
   "cell_type": "code",
   "execution_count": 3,
   "metadata": {},
   "outputs": [],
   "source": [
    "#2\n",
    "def letters(w1,w2):\n",
    "        shared_word = ''.join(sorted(set(w1) & set(w2)))\n",
    "        \n",
    "        unique_to_w1 = ''.join(sorted(set(w1).difference(set(w2))))\n",
    "        \n",
    "        unique_to_w2 = ''.join(sorted(set(w2).difference(set(w1))))\n",
    "        \n",
    "        print([shared_word, unique_to_w1, unique_to_w2])"
   ]
  },
  {
   "cell_type": "code",
   "execution_count": 4,
   "metadata": {},
   "outputs": [
    {
     "name": "stdout",
     "output_type": "stream",
     "text": [
      "['aps', 'hr', 'o']\n"
     ]
    }
   ],
   "source": [
    "letters(\"sharp\", \"soap\") "
   ]
  },
  {
   "cell_type": "code",
   "execution_count": 5,
   "metadata": {},
   "outputs": [],
   "source": [
    "#3\n",
    "def pairs(num_list):\n",
    "        res = []\n",
    "        if len(num_list) % 2 != 0 :\n",
    "            mid_1 = int(len(num_list) / 2) + 1  \n",
    "        else:\n",
    "            mid_1 = int(len(num_list) / 2)\n",
    "        for i in range(mid_1):\n",
    "            paired_list = [num_list[i],num_list[-(i+1)]]\n",
    "            res.append(paired_list)\n",
    "        return res"
   ]
  },
  {
   "cell_type": "code",
   "execution_count": 6,
   "metadata": {},
   "outputs": [
    {
     "data": {
      "text/plain": [
       "[[1, 7], [2, 6], [3, 5], [4, 4]]"
      ]
     },
     "execution_count": 6,
     "metadata": {},
     "output_type": "execute_result"
    }
   ],
   "source": [
    "pairs([1, 2, 3, 4, 5, 6, 7])"
   ]
  },
  {
   "cell_type": "code",
   "execution_count": 7,
   "metadata": {},
   "outputs": [],
   "source": [
    "#4\n",
    "def add_str_nums(num1,num2):\n",
    "        num1 = num1 if len(num1) > 0 else \"0\"\n",
    "        num2 = num2 if len(num2) > 0 else \"0\"\n",
    "        if num1.isdigit() & num2.isdigit():\n",
    "            ans = str(int(num1) + int(num2))\n",
    "        else:\n",
    "            ans = \"-1\"\n",
    "                        \n",
    "        return ans"
   ]
  },
  {
   "cell_type": "code",
   "execution_count": 8,
   "metadata": {},
   "outputs": [
    {
     "data": {
      "text/plain": [
       "'9'"
      ]
     },
     "execution_count": 8,
     "metadata": {},
     "output_type": "execute_result"
    }
   ],
   "source": [
    "add_str_nums(\"4\", \"5\")"
   ]
  },
  {
   "cell_type": "code",
   "execution_count": 9,
   "metadata": {},
   "outputs": [],
   "source": [
    "#5\n",
    "def unmix(string):\n",
    "        string = list(string)\n",
    "        res = string.copy()\n",
    "        for i in range(0,len(string)-1,2): \n",
    "            res[i] = string[i+1]\n",
    "        for i in range(1,len(string),2):\n",
    "            res[i] = string[i-1]        \n",
    "            \n",
    "        return ''.join(res)"
   ]
  },
  {
   "cell_type": "code",
   "execution_count": 10,
   "metadata": {},
   "outputs": [
    {
     "data": {
      "text/plain": [
       "'This is a mixed up string.'"
      ]
     },
     "execution_count": 10,
     "metadata": {},
     "output_type": "execute_result"
    }
   ],
   "source": [
    "unmix(\"hTsii  s aimex dpus rtni.g\")"
   ]
  },
  {
   "cell_type": "code",
   "execution_count": null,
   "metadata": {},
   "outputs": [],
   "source": []
  }
 ],
 "metadata": {
  "kernelspec": {
   "display_name": "Python 3",
   "language": "python",
   "name": "python3"
  },
  "language_info": {
   "codemirror_mode": {
    "name": "ipython",
    "version": 3
   },
   "file_extension": ".py",
   "mimetype": "text/x-python",
   "name": "python",
   "nbconvert_exporter": "python",
   "pygments_lexer": "ipython3",
   "version": "3.8.5"
  }
 },
 "nbformat": 4,
 "nbformat_minor": 4
}
