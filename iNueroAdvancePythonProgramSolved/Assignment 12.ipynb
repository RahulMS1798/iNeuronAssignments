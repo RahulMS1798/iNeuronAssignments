{
 "cells": [
  {
   "cell_type": "code",
   "execution_count": 1,
   "metadata": {},
   "outputs": [],
   "source": [
    "#1\n",
    "def meme_sum(num1,num2):\n",
    "        res = ''\n",
    "        num1,num2 = str(num1), str(num2)\n",
    "        while len(num1) != len(num2):\n",
    "            if len(num1) > len(num2):\n",
    "                num2 = '0' + num2\n",
    "            else:\n",
    "                num1 = '0' + num1\n",
    "        for i in range(len(num1)):\n",
    "            res += str(int(num1[i]) + int(num2[i])) \n",
    "        return int(res)"
   ]
  },
  {
   "cell_type": "code",
   "execution_count": 2,
   "metadata": {},
   "outputs": [
    {
     "data": {
      "text/plain": [
       "515"
      ]
     },
     "execution_count": 2,
     "metadata": {},
     "output_type": "execute_result"
    }
   ],
   "source": [
    "meme_sum(26, 39) "
   ]
  },
  {
   "cell_type": "code",
   "execution_count": 3,
   "metadata": {},
   "outputs": [],
   "source": [
    "#2\n",
    "def is_prime(num):\n",
    "    if num > 1:\n",
    "        for i in range (2,num):\n",
    "            if num % i == 0:\n",
    "                return False\n",
    "                break\n",
    "        else:\n",
    "            return True\n",
    "    else:\n",
    "        return False\n",
    "    \n",
    "def next_prime(num):\n",
    "        res = is_prime(num)\n",
    "        while res != True:\n",
    "            num += 1\n",
    "            res = is_prime(num)\n",
    "        return num"
   ]
  },
  {
   "cell_type": "code",
   "execution_count": 4,
   "metadata": {},
   "outputs": [
    {
     "data": {
      "text/plain": [
       "13"
      ]
     },
     "execution_count": 4,
     "metadata": {},
     "output_type": "execute_result"
    }
   ],
   "source": [
    "next_prime(12) "
   ]
  },
  {
   "cell_type": "code",
   "execution_count": 5,
   "metadata": {},
   "outputs": [],
   "source": [
    "def ave_spd(uphill_time, uphill_rate, downhill_rate):\n",
    "        uphill_time = uphill_time / 60 #convert to hours\n",
    "        distance = uphill_time * uphill_rate\n",
    "        downhill_time = distance / downhill_rate\n",
    "        average_velocity=(distance * 2) / (downhill_time + uphill_time)\n",
    "        return int(average_velocity)\n",
    "    \n"
   ]
  },
  {
   "cell_type": "code",
   "execution_count": 6,
   "metadata": {},
   "outputs": [
    {
     "data": {
      "text/plain": [
       "30"
      ]
     },
     "execution_count": 6,
     "metadata": {},
     "output_type": "execute_result"
    }
   ],
   "source": [
    "ave_spd(18, 20, 60) "
   ]
  },
  {
   "cell_type": "code",
   "execution_count": 9,
   "metadata": {},
   "outputs": [
    {
     "name": "stdout",
     "output_type": "stream",
     "text": [
      "3\n",
      "5\n",
      "2\n",
      "5\n",
      "5\n",
      "2\n"
     ]
    }
   ],
   "source": [
    "def factorial(num):\n",
    "    res = 1\n",
    "    for i in range(1,num+1):\n",
    "        res = res * i\n",
    "    return res\n",
    "\n",
    "def kempner(num):\n",
    "        for i in range(1,num + 1):\n",
    "            if factorial(i) % num == 0:\n",
    "                print(i)\n",
    "                break\n",
    "        \n",
    "kempner(6) \n",
    "kempner(10)\n",
    "kempner(2) \n",
    "kempner(5) \n",
    "kempner(10) \n",
    "kempner(2) "
   ]
  },
  {
   "cell_type": "code",
   "execution_count": 10,
   "metadata": {},
   "outputs": [],
   "source": [
    "def boxes(weights):\n",
    "        count = 1      \n",
    "        weight = 0\n",
    "        i = 0\n",
    "        while i < (len(weights)):\n",
    "            weight = weight + weights[i]\n",
    "            if weight <= 10:\n",
    "                i = i+1\n",
    "            else:\n",
    "                count += 1\n",
    "                weight = 0\n",
    "        return count"
   ]
  },
  {
   "cell_type": "code",
   "execution_count": 11,
   "metadata": {},
   "outputs": [
    {
     "data": {
      "text/plain": [
       "5"
      ]
     },
     "execution_count": 11,
     "metadata": {},
     "output_type": "execute_result"
    }
   ],
   "source": [
    "boxes([2, 1, 2, 5, 4, 3, 6, 1, 1, 9, 3, 2])"
   ]
  },
  {
   "cell_type": "code",
   "execution_count": null,
   "metadata": {},
   "outputs": [],
   "source": []
  }
 ],
 "metadata": {
  "kernelspec": {
   "display_name": "Python 3",
   "language": "python",
   "name": "python3"
  },
  "language_info": {
   "codemirror_mode": {
    "name": "ipython",
    "version": 3
   },
   "file_extension": ".py",
   "mimetype": "text/x-python",
   "name": "python",
   "nbconvert_exporter": "python",
   "pygments_lexer": "ipython3",
   "version": "3.8.5"
  }
 },
 "nbformat": 4,
 "nbformat_minor": 4
}
